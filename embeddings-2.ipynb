{
 "cells": [
  {
   "cell_type": "code",
   "execution_count": null,
   "id": "cc62d47c-1aec-43d2-a202-e22946a4e21e",
   "metadata": {},
   "outputs": [],
   "source": []
  },
  {
   "cell_type": "markdown",
   "id": "b63a72fe-1eb0-4272-a503-43887c559902",
   "metadata": {},
   "source": [
    "## Training an embedding model\n",
    "\n",
    "Let's try contrastive learning"
   ]
  },
  {
   "cell_type": "code",
   "execution_count": 1,
   "id": "8d085c85-bdce-4d33-abc7-99d09170380a",
   "metadata": {},
   "outputs": [
    {
     "name": "stderr",
     "output_type": "stream",
     "text": [
      "/Users/chang/projects/uncc-2024-6188/.venv/lib/python3.9/site-packages/tqdm/auto.py:21: TqdmWarning: IProgress not found. Please update jupyter and ipywidgets. See https://ipywidgets.readthedocs.io/en/stable/user_install.html\n",
      "  from .autonotebook import tqdm as notebook_tqdm\n"
     ]
    }
   ],
   "source": [
    "from sentence_transformers import SentenceTransformer\n",
    "\n",
    "model = SentenceTransformer(\"sentence-transformers/all-MiniLM-L6-v2\")\n",
    "target_model = SentenceTransformer(\"quora-distilbert-multilingual\")"
   ]
  },
  {
   "cell_type": "markdown",
   "id": "5ef7f595-7777-4e28-90cb-2948e1a55ee0",
   "metadata": {},
   "source": [
    "Dataset to train: Quora"
   ]
  },
  {
   "cell_type": "code",
   "execution_count": 2,
   "id": "e7d1d06f-474d-4717-9b6d-b89b2cee8540",
   "metadata": {},
   "outputs": [
    {
     "data": {
      "text/plain": [
       "Dataset({\n",
       "    features: ['questions', 'is_duplicate'],\n",
       "    num_rows: 404290\n",
       "})"
      ]
     },
     "execution_count": 2,
     "metadata": {},
     "output_type": "execute_result"
    }
   ],
   "source": [
    "from datasets import load_dataset\n",
    "\n",
    "dataset = load_dataset(\"quora\", trust_remote_code=True)[\"train\"]\n",
    "dataset"
   ]
  },
  {
   "cell_type": "code",
   "execution_count": 3,
   "id": "357525b1-3d17-4115-9ccb-3fbd33441dce",
   "metadata": {},
   "outputs": [
    {
     "name": "stdout",
     "output_type": "stream",
     "text": [
      "537362\n"
     ]
    }
   ],
   "source": [
    "# Collect all the questions, then deduplicate\n",
    "corpus_questions = []\n",
    "for d in dataset:\n",
    "    corpus_questions.append(d[\"questions\"][\"text\"][0])\n",
    "    corpus_questions.append(d[\"questions\"][\"text\"][1])\n",
    "corpus_questions = list(set(corpus_questions))  # Remove duplicates\n",
    "print(len(corpus_questions))"
   ]
  },
  {
   "cell_type": "code",
   "execution_count": 4,
   "id": "0380c3d8-e95d-41ea-af14-869e224c69f9",
   "metadata": {},
   "outputs": [],
   "source": [
    "questions_to_embed = 10_000\n",
    "\n",
    "target_embeddings = target_model.encode(\n",
    "    corpus_questions[:questions_to_embed],\n",
    "    # show_progress_bar=True,\n",
    "    convert_to_tensor=True,\n",
    ")\n",
    "\n",
    "current_embeddings = model.encode(\n",
    "    corpus_questions[:questions_to_embed],\n",
    "    # show_progress_bar=True,\n",
    "    convert_to_tensor=True,\n",
    ")"
   ]
  },
  {
   "cell_type": "code",
   "execution_count": 5,
   "id": "25022d41-eb10-4f2b-9954-c55aaa235850",
   "metadata": {},
   "outputs": [
    {
     "name": "stdout",
     "output_type": "stream",
     "text": [
      "torch.Size([10000, 768])\n",
      "torch.Size([10000, 384])\n"
     ]
    }
   ],
   "source": [
    "print(target_embeddings.shape)\n",
    "print(current_embeddings.shape)"
   ]
  },
  {
   "cell_type": "code",
   "execution_count": 57,
   "id": "95bedf06-706c-451d-942c-b7c1e1df27df",
   "metadata": {},
   "outputs": [],
   "source": [
    "from sentence_transformers import util\n",
    "\n",
    "def search(query, model, embeddings, n=5, show=True):\n",
    "    query_embedding = model.encode(query, convert_to_tensor=True)\n",
    "    results = util.semantic_search(query_embedding, embeddings, top_k=n) # this uses cosine similarity\n",
    "\n",
    "    # We look at top n results\n",
    "    if show:\n",
    "        for result in results[0][:n]:\n",
    "            print(\n",
    "                \"{:.3f}\\t{}\".format(result[\"score\"], corpus_questions[result[\"corpus_id\"]])\n",
    "            )\n",
    "    return results[0][:n]"
   ]
  },
  {
   "cell_type": "code",
   "execution_count": 7,
   "id": "3f207865-4267-4824-8194-612c0d1995f1",
   "metadata": {},
   "outputs": [
    {
     "name": "stdout",
     "output_type": "stream",
     "text": [
      "0.961\tWhat is the best way to learn Python and django?\n",
      "0.949\tHow do I run Python Code on Sublime Text 3?\n",
      "0.949\tHow can I run Python 2.7 code if I have Python 3.4 installed?\n",
      "0.948\tWhere do I learn python in Mumbai?\n",
      "0.944\tHow can I learn to write idiomatic Python?\n",
      "0.942\tHow long does it take to learn the basics of Python before you can do anything fun/interesting?\n",
      "0.936\tHow is Python being used at Facebook?\n",
      "0.928\tWhich is the best book to learn Python?\n",
      "0.926\tShould I learn c++ or Java before learning Python?\n",
      "0.926\tWhat is best book to learn GUI programming with Python?\n"
     ]
    }
   ],
   "source": [
    "python_query = \"How can I learn Python online?\"\n",
    "search(python_query, target_model, target_embeddings, 10)"
   ]
  },
  {
   "cell_type": "code",
   "execution_count": 8,
   "id": "ba5de9ae",
   "metadata": {},
   "outputs": [
    {
     "name": "stdout",
     "output_type": "stream",
     "text": [
      "0.744\tWhich is the best books or online courses for learning python from basic to advanced?\n",
      "0.647\tWhich is the best book to learn Python?\n",
      "0.628\tWhat is the best way to learn Python and django?\n",
      "0.615\tWhere do I learn python in Mumbai?\n",
      "0.597\tHow long does it take to learn the basics of Python before you can do anything fun/interesting?\n",
      "0.581\tHow can I learn to write idiomatic Python?\n",
      "0.559\tWhat is best book to learn GUI programming with Python?\n",
      "0.559\tHow do I learn programming for free?\n",
      "0.521\tShould I learn c++ or Java before learning Python?\n",
      "0.512\tWhat is the best place to learn Spanish online?\n"
     ]
    }
   ],
   "source": [
    "search(python_query, model, current_embeddings, 10)"
   ]
  },
  {
   "cell_type": "markdown",
   "id": "2383202c",
   "metadata": {},
   "source": [
    "Observations: \n",
    "\n",
    "- the target model has a much \"higher\" score in the top 5\n",
    "- difference in questions returned."
   ]
  },
  {
   "cell_type": "markdown",
   "id": "5d3bc601",
   "metadata": {},
   "source": [
    "### Building a dataset to train\n",
    "\n",
    "We want to build a contrastive learning dataset.\n",
    "\n",
    "Can we actually \"move the needle?\"\n",
    "\n",
    "Example dataset: https://huggingface.co/datasets/sentence-transformers/all-nli\n",
    "\n"
   ]
  },
  {
   "cell_type": "code",
   "execution_count": 9,
   "id": "0f7b3f48",
   "metadata": {},
   "outputs": [],
   "source": [
    "sample_nli_dataset = load_dataset(\"sentence-transformers/all-nli\", \"triplet\", split=\"train\")"
   ]
  },
  {
   "cell_type": "code",
   "execution_count": 10,
   "id": "2154b4fd",
   "metadata": {},
   "outputs": [
    {
     "name": "stdout",
     "output_type": "stream",
     "text": [
      "Dataset({\n",
      "    features: ['anchor', 'positive', 'negative'],\n",
      "    num_rows: 557850\n",
      "})\n"
     ]
    }
   ],
   "source": [
    "print(sample_nli_dataset)"
   ]
  },
  {
   "cell_type": "code",
   "execution_count": 11,
   "id": "3bafab6e",
   "metadata": {},
   "outputs": [
    {
     "data": {
      "text/plain": [
       "{'anchor': 'A person on a horse jumps over a broken down airplane.',\n",
       " 'positive': 'A person is outdoors, on a horse.',\n",
       " 'negative': 'A person is at a diner, ordering an omelette.'}"
      ]
     },
     "execution_count": 11,
     "metadata": {},
     "output_type": "execute_result"
    }
   ],
   "source": [
    "sample_nli_dataset[0]"
   ]
  },
  {
   "cell_type": "markdown",
   "id": "c76fe519",
   "metadata": {},
   "source": [
    "Let's think of this as `query`, `good answer`, `bad answer` and use this to construct a toy example on the Quora dataset."
   ]
  },
  {
   "cell_type": "code",
   "execution_count": null,
   "id": "793d7b7c",
   "metadata": {},
   "outputs": [
    {
     "name": "stderr",
     "output_type": "stream",
     "text": [
      "Generating train split: 1000 examples [00:35, 28.15 examples/s]\n"
     ]
    }
   ],
   "source": [
    "from datasets import Dataset\n",
    "\n",
    "\n",
    "train_data_size = 1_000\n",
    "# train_data_size = 100\n",
    "queries = corpus_questions[questions_to_embed:questions_to_embed+train_data_size]\n",
    "\n",
    "\n",
    "def build_example_from_query(query, n=5):\n",
    "    # search and return top 5 from target and current models\n",
    "    target_results = search(query, target_model, target_embeddings, n, show=False)\n",
    "    current_results = search(query, model, current_embeddings, n, show=False)\n",
    "    # take the last one from current results and pair with the first one with target results\n",
    "    most_positive = target_results[0][\"corpus_id\"]\n",
    "    most_negative = current_results[n-1][\"corpus_id\"]\n",
    "    return {\n",
    "        \"anchor\": query,\n",
    "        \"positive\": corpus_questions[most_positive],\n",
    "        \"negative\": corpus_questions[most_negative],\n",
    "    }\n",
    "\n",
    "# Build a training dataset with huggingface Dataset\n",
    "\n",
    "def gen():\n",
    "    for query in queries:\n",
    "        yield build_example_from_query(query)\n",
    "        \n",
    "quora_train_ds = ds = Dataset.from_generator(gen)\n",
    "\n",
    "\n",
    "# train_data = []\n",
    "# # takes 40s on Mac\n",
    "# for query in queries:\n",
    "#     triplet = build_example_from_query(query)\n",
    "#     train_data.append(triplet)\n",
    "#     # print(triplet)\n",
    "    \n",
    "    \n",
    "    "
   ]
  },
  {
   "cell_type": "code",
   "execution_count": 48,
   "id": "f50009f3",
   "metadata": {},
   "outputs": [
    {
     "data": {
      "text/plain": [
       "{'anchor': 'Was Um Bongo ever available in the Congo?',\n",
       " 'positive': 'What is Mongoose?',\n",
       " 'negative': 'Does Brazil have a special economic zone?'}"
      ]
     },
     "execution_count": 48,
     "metadata": {},
     "output_type": "execute_result"
    }
   ],
   "source": [
    "quora_train_ds[100]"
   ]
  },
  {
   "cell_type": "markdown",
   "id": "d063062c",
   "metadata": {},
   "source": [
    "### Train the model\n",
    "\n",
    "With triplet loss"
   ]
  },
  {
   "cell_type": "code",
   "execution_count": 49,
   "id": "4d7286d7",
   "metadata": {},
   "outputs": [],
   "source": [
    "from sentence_transformers import SentenceTransformerTrainer, losses"
   ]
  },
  {
   "cell_type": "code",
   "execution_count": 51,
   "id": "0c9f5d6b",
   "metadata": {},
   "outputs": [
    {
     "name": "stderr",
     "output_type": "stream",
     "text": [
      "                                                                     \r"
     ]
    }
   ],
   "source": [
    "loss = losses.TripletLoss(model=model)\n",
    "trainer = SentenceTransformerTrainer(\n",
    "    model=model,\n",
    "    train_dataset=quora_train_ds,\n",
    "    loss=loss,\n",
    ")"
   ]
  },
  {
   "cell_type": "code",
   "execution_count": 52,
   "id": "d7ffb649",
   "metadata": {},
   "outputs": [
    {
     "data": {
      "text/html": [
       "\n",
       "    <div>\n",
       "      \n",
       "      <progress value='375' max='375' style='width:300px; height:20px; vertical-align: middle;'></progress>\n",
       "      [375/375 01:23, Epoch 3/3]\n",
       "    </div>\n",
       "    <table border=\"1\" class=\"dataframe\">\n",
       "  <thead>\n",
       " <tr style=\"text-align: left;\">\n",
       "      <th>Step</th>\n",
       "      <th>Training Loss</th>\n",
       "    </tr>\n",
       "  </thead>\n",
       "  <tbody>\n",
       "  </tbody>\n",
       "</table><p>"
      ],
      "text/plain": [
       "<IPython.core.display.HTML object>"
      ]
     },
     "metadata": {},
     "output_type": "display_data"
    },
    {
     "data": {
      "text/plain": [
       "TrainOutput(global_step=375, training_loss=4.7815302734375, metrics={'train_runtime': 89.1778, 'train_samples_per_second': 33.641, 'train_steps_per_second': 4.205, 'total_flos': 0.0, 'train_loss': 4.7815302734375, 'epoch': 3.0})"
      ]
     },
     "execution_count": 52,
     "metadata": {},
     "output_type": "execute_result"
    }
   ],
   "source": [
    "trainer.train()"
   ]
  },
  {
   "cell_type": "code",
   "execution_count": 53,
   "id": "ca72f641",
   "metadata": {},
   "outputs": [],
   "source": [
    "trainer.save_model(output_dir=\"./finetuned-quora-model\")"
   ]
  },
  {
   "cell_type": "markdown",
   "id": "edb736b5",
   "metadata": {},
   "source": [
    "Did we change the behavior of the model??"
   ]
  },
  {
   "cell_type": "code",
   "execution_count": 54,
   "id": "28ef5de3",
   "metadata": {},
   "outputs": [],
   "source": [
    "trained_model = SentenceTransformer(\"./finetuned-quora-model\")\n",
    "og_model = SentenceTransformer(\"sentence-transformers/all-MiniLM-L6-v2\")"
   ]
  },
  {
   "cell_type": "code",
   "execution_count": 55,
   "id": "737d5cdf",
   "metadata": {},
   "outputs": [],
   "source": [
    "new_embeddings = trained_model.encode(\n",
    "    corpus_questions[:questions_to_embed],\n",
    "    # show_progress_bar=True,\n",
    "    convert_to_tensor=True,\n",
    ")"
   ]
  },
  {
   "cell_type": "code",
   "execution_count": 59,
   "id": "c57d8dc4",
   "metadata": {},
   "outputs": [
    {
     "name": "stdout",
     "output_type": "stream",
     "text": [
      "0.961\tWhat is the best way to learn Python and django?\n",
      "0.949\tHow do I run Python Code on Sublime Text 3?\n",
      "0.949\tHow can I run Python 2.7 code if I have Python 3.4 installed?\n",
      "0.948\tWhere do I learn python in Mumbai?\n",
      "0.944\tHow can I learn to write idiomatic Python?\n",
      "---------------------------------------------------------\n",
      "0.662\tWhich is the best book to learn Python?\n",
      "0.635\tWhich is the best books or online courses for learning python from basic to advanced?\n",
      "0.602\tHow long does it take to learn the basics of Python before you can do anything fun/interesting?\n",
      "0.602\tWhat is the best way to learn Python and django?\n",
      "0.598\tHow do I install a python program on a random PC?\n",
      "---------------------------------------------------------\n",
      "0.978\tHow can I learn to write idiomatic Python?\n",
      "0.978\tHow long does it take to learn the basics of Python before you can do anything fun/interesting?\n",
      "0.975\tWhich is the best books or online courses for learning python from basic to advanced?\n",
      "0.975\tWhich is the best book to learn Python?\n",
      "0.962\tWhat default modules come with Python?\n"
     ]
    }
   ],
   "source": [
    "# compare some examples\n",
    "python_query = \"How can I learn Python online?\"\n",
    "_ = search(python_query, target_model, target_embeddings, 5)\n",
    "print('---------------------------------------------------------')\n",
    "_ = search(python_query, model, current_embeddings, 5)\n",
    "print('---------------------------------------------------------')\n",
    "_ = search(python_query, trained_model, new_embeddings, 5)"
   ]
  },
  {
   "cell_type": "code",
   "execution_count": 62,
   "id": "faa17829",
   "metadata": {},
   "outputs": [
    {
     "name": "stdout",
     "output_type": "stream",
     "text": [
      "What u all think giving a bunch of assignments to complete in engineering is worthful.if not, then why it is not stopped yet?\n",
      "---------------------------------------------------------\n",
      "0.935\tWhat are the best part time jobs while doing engineering?\n",
      "0.934\tI am having trouble getting a job in the Mechanical Engineering field.  My resume’ is excellent.  My interviewing I have been told is “very good”.  My references are good.  I had my resume’ professionally done.  Should I get a Masters?\n",
      "0.930\tI am 25 years old and still not finished my engineering degree. I still two more years remaining. What should I do?\n",
      "0.928\tHi Ashwin, I wish to apply for masters in mechanical Engineering management. Will work experience play an important role?\n",
      "0.922\tWhich is better, mechanical or computer science engineering in terms of jobs after graduation?\n",
      "---------------------------------------------------------\n",
      "0.579\tWhy are Germans so good at engineering?\n",
      "0.575\tWhat happens when we complete engineering in 5 years?\n",
      "0.560\tShould I become an engineer?\n",
      "0.537\tShould I quit engineering?\n",
      "0.537\tHow is the world without engineers?\n",
      "---------------------------------------------------------\n",
      "0.921\tWhat happens when we complete engineering in 5 years?\n",
      "0.914\tWhat are the best part time jobs while doing engineering?\n",
      "0.911\tWhat are some of the best engineering job consultancies in India?\n",
      "0.909\tWhat are good research topics on engineering project?\n",
      "0.890\tI am 25 years old and still not finished my engineering degree. I still two more years remaining. What should I do?\n"
     ]
    }
   ],
   "source": [
    "query = corpus_questions[200001]\n",
    "print(f'{query}')\n",
    "print('---------------------------------------------------------')\n",
    "_ = search(query, target_model, target_embeddings, 5)\n",
    "print('---------------------------------------------------------')\n",
    "_ = search(query, model, current_embeddings, 5)\n",
    "print('---------------------------------------------------------')\n",
    "_ = search(query, trained_model, new_embeddings, 5)"
   ]
  },
  {
   "cell_type": "code",
   "execution_count": 65,
   "id": "d260613e",
   "metadata": {},
   "outputs": [
    {
     "name": "stdout",
     "output_type": "stream",
     "text": [
      "What is a SaaS company?\n",
      "---------------------------------------------------------\n",
      "0.907\tWhat is the typical revenue per employee for a B2B SaaS company?\n",
      "0.887\tHow do I validate SaaS idea?\n",
      "0.887\tWhat is DaaS?\n",
      "0.878\tWho are some of the leading local IaaS cloud service providers in India?\n",
      "0.866\tWhat are good product companies where SAP ABAP/SAP HCM jobs are there?\n",
      "---------------------------------------------------------\n",
      "0.561\tWhat's the difference between SaaS and the Cloud?\n",
      "0.528\tHow do I validate SaaS idea?\n",
      "0.388\tWhat are un, saarc, oecd?\n",
      "0.316\tWhat are the commonly used final gear ratios and tyre size combinations for supra sae cars for a 43 bhp KTM engine?\n",
      "0.305\tWhat is the typical revenue per employee for a B2B SaaS company?\n",
      "---------------------------------------------------------\n",
      "0.978\tHow do I validate SaaS idea?\n",
      "0.958\tWhat is the typical revenue per employee for a B2B SaaS company?\n",
      "0.532\tWhat's the difference between SaaS and the Cloud?\n",
      "0.464\tHow is South Africa's economy doing in 2014?\n",
      "0.429\tWhat should be the job preference in SSC CGL 2016, if I want to prepare for civil services?\n"
     ]
    }
   ],
   "source": [
    "query = corpus_questions[300_007]\n",
    "print(f'{query}')\n",
    "print('---------------------------------------------------------')\n",
    "_ = search(query, target_model, target_embeddings, 5)\n",
    "print('---------------------------------------------------------')\n",
    "_ = search(query, model, current_embeddings, 5)\n",
    "print('---------------------------------------------------------')\n",
    "_ = search(query, trained_model, new_embeddings, 5)"
   ]
  },
  {
   "cell_type": "markdown",
   "id": "ee0cca42",
   "metadata": {},
   "source": [
    "## Evaluating embeddings model"
   ]
  },
  {
   "cell_type": "code",
   "execution_count": null,
   "id": "8fc5df3d",
   "metadata": {},
   "outputs": [],
   "source": []
  },
  {
   "cell_type": "code",
   "execution_count": null,
   "id": "0f39f5b8",
   "metadata": {},
   "outputs": [],
   "source": []
  }
 ],
 "metadata": {
  "kernelspec": {
   "display_name": ".venv",
   "language": "python",
   "name": "python3"
  },
  "language_info": {
   "codemirror_mode": {
    "name": "ipython",
    "version": 3
   },
   "file_extension": ".py",
   "mimetype": "text/x-python",
   "name": "python",
   "nbconvert_exporter": "python",
   "pygments_lexer": "ipython3",
   "version": "3.9.19"
  }
 },
 "nbformat": 4,
 "nbformat_minor": 5
}
