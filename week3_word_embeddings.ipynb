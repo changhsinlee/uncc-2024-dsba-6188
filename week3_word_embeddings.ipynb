{
 "cells": [
  {
   "cell_type": "markdown",
   "metadata": {},
   "source": [
    "The material and notebook are modified from Omar Sansevierod's blog post. See https://osanseviero.github.io/hackerllama/blog/posts/sentence_embeddings/M"
   ]
  },
  {
   "cell_type": "markdown",
   "metadata": {
    "id": "S56X_6RFFSOx"
   },
   "source": [
    "This series aims to demystify embeddings and show you how to use them in your projects. This first blog post will teach you how to use and scale up open-source embedding models. We’ll look into the criteria for picking an existing model, current evaluation methods, and the state of the ecosystem. We’ll look into three exciting applications:\n",
    "\n",
    "\n",
    "* Finding the most similar Quora or StackOverflow questions\n",
    "* Given a huge dataset, find the most similar items\n",
    "* Running search embedding models directly in the users’ browser (no server required)\n",
    "\n",
    "You can either read the content here or execute it in Google Colab by clicking the badge at the top of the page. Let’s dive into embeddings!"
   ]
  },
  {
   "cell_type": "markdown",
   "metadata": {
    "id": "tUFN-JH-FSOy"
   },
   "source": [
    "## The TL;DR\n",
    "\n",
    "You keep reading about \"embeddings this\" and \"embeddings that\", but you might still not know exactly what they are. You are not alone! Even if you have a vague idea of what embeddings are, you might use them through a black-box API without really understanding what’s going on under the hood. This is a problem because the current state of open-source embedding models is very strong - they are pretty easy to deploy, small (and hence cheap to host), and outperform many closed-source models.\n",
    "\n",
    "An embedding represents information as a vector of numbers (think of it as a list!). For example, we can obtain the embedding of a word, a sentence, a document, an image, an audio file, etc. Given the sentence “Today is a sunny day”, we can obtain its embedding, which would be a vector of a specific size, such as 384 numbers (such vector could look like [0.32, 0.42, 0.15, …, 0.72]). What is interesting is that the **embeddings capture the semantic meaning of the information**. For example, embedding the sentence “Today is a sunny day” will be very similar to that of the sentence “The weather is nice today”. Even if the words are different, the meaning is similar, and the embeddings will reflect that.\n",
    "\n",
    ":::callout\n",
    "\n",
    "If you’re not sure what words such as “vector”, “semantic similarity”, the vector size, or “pretrained” mean, don’t worry! We’ll explain them in the following sections. Focus on the high-level understanding first.\n",
    "\n",
    ":::\n",
    "\n",
    "So, this vector captures the semantic meaning of the information, making it easier to compare to each other. For example, we can use embeddings to find similar questions in Quora or StackOverflow, search code, find similar images, etc. Let’s look into some code!"
   ]
  },
  {
   "cell_type": "markdown",
   "metadata": {
    "id": "wXDHDMYDFSOy"
   },
   "source": [
    "We’ll use Sentence Transformers, an open-source library that makes it easy to use pre-trained embedding models. In particular, ST allows us to turn sentences into embeddings quickly. Let’s run an example and then discuss how it works under the hood.\n",
    "\n",
    "Let's begin by installing the library:"
   ]
  },
  {
   "cell_type": "code",
   "execution_count": 1,
   "metadata": {
    "id": "95EAWKZKFSOy"
   },
   "outputs": [],
   "source": [
    "%%capture\n",
    "!pip install sentence_transformers"
   ]
  },
  {
   "cell_type": "markdown",
   "metadata": {
    "id": "c-AR32DOFSOz"
   },
   "source": [
    "The second step is to load an existing model. We'll start using [all-MiniLM-L6-v2](https://huggingface.co/sentence-transformers/all-MiniLM-L6-v2). It's not the best open-source embedding model, but it's quite popular and very small (23 million parameters), which means we can get started with it very quickly."
   ]
  },
  {
   "cell_type": "code",
   "execution_count": 2,
   "metadata": {
    "id": "JyaNRlCFFSOz"
   },
   "outputs": [
    {
     "name": "stderr",
     "output_type": "stream",
     "text": [
      "/Users/chang/projects/uncc-2024-6188/.venv/lib/python3.9/site-packages/tqdm/auto.py:21: TqdmWarning: IProgress not found. Please update jupyter and ipywidgets. See https://ipywidgets.readthedocs.io/en/stable/user_install.html\n",
      "  from .autonotebook import tqdm as notebook_tqdm\n",
      "modules.json: 100%|████████████████████████████| 349/349 [00:00<00:00, 96.4kB/s]\n",
      "config_sentence_transformers.json: 100%|████████| 116/116 [00:00<00:00, 123kB/s]\n",
      "README.md: 100%|███████████████████████████| 10.6k/10.6k [00:00<00:00, 17.2MB/s]\n",
      "sentence_bert_config.json: 100%|█████████████| 53.0/53.0 [00:00<00:00, 83.1kB/s]\n",
      "config.json: 100%|█████████████████████████████| 612/612 [00:00<00:00, 1.20MB/s]\n",
      "pytorch_model.bin: 100%|███████████████████| 90.9M/90.9M [00:01<00:00, 85.9MB/s]\n",
      "tokenizer_config.json: 100%|████████████████████| 350/350 [00:00<00:00, 195kB/s]\n",
      "vocab.txt: 100%|█████████████████████████████| 232k/232k [00:00<00:00, 8.23MB/s]\n",
      "tokenizer.json: 100%|████████████████████████| 466k/466k [00:00<00:00, 21.5MB/s]\n",
      "special_tokens_map.json: 100%|█████████████████| 112/112 [00:00<00:00, 49.5kB/s]\n",
      "1_Pooling/config.json: 100%|███████████████████| 190/190 [00:00<00:00, 92.6kB/s]\n"
     ]
    }
   ],
   "source": [
    "from sentence_transformers import SentenceTransformer\n",
    "\n",
    "model = SentenceTransformer(\"sentence-transformers/all-MiniLM-L6-v2\")"
   ]
  },
  {
   "cell_type": "markdown",
   "metadata": {
    "id": "DmSFJT62FSOz"
   },
   "source": [
    "Now that we loaded a model, let's use it to encode some sentences. We can use the `encode` method to obtain the embeddings of a list of sentences. Let's try it out!"
   ]
  },
  {
   "cell_type": "code",
   "execution_count": 4,
   "metadata": {
    "id": "MNEc5l4CFSOz",
    "outputId": "dc8aadcd-693b-40e2-ea80-5f9888c9b5d0"
   },
   "outputs": [
    {
     "data": {
      "text/plain": [
       "(4, 384)"
      ]
     },
     "execution_count": 4,
     "metadata": {},
     "output_type": "execute_result"
    }
   ],
   "source": [
    "from sentence_transformers import util\n",
    "\n",
    "sentences = [\"The weather today is beautiful\", \"It's raining!\", \"Dogs are awesome\"]\n",
    "embeddings = model.encode(sentences)\n",
    "embeddings.shape"
   ]
  },
  {
   "cell_type": "markdown",
   "metadata": {
    "id": "W1d3edV7FSO0"
   },
   "source": [
    "all-MiniLM-L6-v2 creates embeddings of 384 values. We obtain three embeddings, one for each sentence. Think of `embeddings` as a \"database\" of embeddings. Given a new sentence, how can we find the most similar sentence? We can use the `util.pytorch_cos_sim` method to compute the cosine similarity (we'll talk more about it soon) between the new sentence embedding and all the embeddings in the database. The cosine similarity is a number between 0 and 1 that indicates how similar two embeddings are. A value of 1 means that the embeddings are identical, while 0 means that the embeddings are entirely different. Let’s try it out!"
   ]
  },
  {
   "cell_type": "code",
   "execution_count": 5,
   "metadata": {
    "id": "Z10nVuYdFSO0",
    "outputId": "1524bcb0-ff67-460e-dfda-53e6ed5e35fc"
   },
   "outputs": [
    {
     "name": "stdout",
     "output_type": "stream",
     "text": [
      "tensor([[0.7344]]) The weather today is beautiful\n",
      "tensor([[0.4180]]) It's raining!\n",
      "tensor([[0.1060]]) Dogs are awesome\n",
      "tensor([[0.6748]]) Today is a rainy day\n"
     ]
    }
   ],
   "source": [
    "# TODO: Compare with \"Today is a rainy day\" and see how similar it is? \n",
    "# Question: why are the embeddings between 0 and 1 here?\n",
    "first_embedding = model.encode(\"Today is a sunny day\")\n",
    "for embedding, sentence in zip(embeddings, sentences):\n",
    "    similarity = util.pytorch_cos_sim(first_embedding, embedding)\n",
    "    print(similarity, sentence)"
   ]
  },
  {
   "cell_type": "code",
   "execution_count": 8,
   "metadata": {},
   "outputs": [
    {
     "data": {
      "text/plain": [
       "tensor([[-1.0000]])"
      ]
     },
     "execution_count": 8,
     "metadata": {},
     "output_type": "execute_result"
    }
   ],
   "source": [
    "util.pytorch_cos_sim(first_embedding, -first_embedding)"
   ]
  },
  {
   "cell_type": "code",
   "execution_count": 6,
   "metadata": {},
   "outputs": [
    {
     "data": {
      "text/plain": [
       "array([[ 0.00505587,  0.11087805,  0.16852866, ..., -0.01474655,\n",
       "        -0.0632527 ,  0.03685535],\n",
       "       [-0.04235891, -0.01101511,  0.09091638, ..., -0.0516046 ,\n",
       "        -0.01625193,  0.02822076],\n",
       "       [-0.0464575 , -0.03050647,  0.08978117, ...,  0.07701726,\n",
       "         0.04749539,  0.02737398],\n",
       "       [ 0.02304243,  0.07154104,  0.12163297, ..., -0.06372355,\n",
       "        -0.0372787 ,  0.02910197]], dtype=float32)"
      ]
     },
     "execution_count": 6,
     "metadata": {},
     "output_type": "execute_result"
    }
   ],
   "source": [
    "embeddings"
   ]
  },
  {
   "cell_type": "markdown",
   "metadata": {
    "id": "scSU8M1wFSO0"
   },
   "source": [
    "What can we interpret of this? Although “today is a sunny day” and “the weather today is beautiful” don’t have the same words, the embeddings can capture some semantic meaning, so the cosine similarity is relatively high. On the other hand, “Dogs are awesome”, although true, has nothing to do with the weather or today; hence, the cosine similarity is very low.\n",
    "\n",
    "To expand on this idea of similar embeddings, let’s look into how they could be used in a product. Imagine that U.S. Social Security would like to allow users to write Medicare-related questions in an input field. This topic is very sensitive, and we likely don’t want a model to hallucinate with something unrelated! Instead, we can leverage a database of questions (in this case, there’s an existing Medicare FAQ). The process is similar to the above\"\n",
    "\n",
    "1. We have a corpus (collection) of questions and answers.\n",
    "2. We compute the embeddings of all the questions.\n",
    "3. Given a new question, we compute its embedding.\n",
    "4. We compute the cosine similarity between the new question embedding and all the embeddings in the database.\n",
    "5. We return the most similar question (which is associated with the most similar embedding).\n",
    "\n",
    "Steps 1 and 2 can be done offline (that is, we compute the embeddings only once and store them). The rest of the steps can be done at search time (each time a user asks a question). Let’s see what this would look like in code."
   ]
  },
  {
   "cell_type": "markdown",
   "metadata": {
    "id": "S_hDVwiaFSO0"
   },
   "source": [
    "[![Representation of embeddings in two dimensions](https://github.com/osanseviero/hackerllama/blob/main/nbs/blog/posts/sentence_embeddings/embedding.png?raw=1)](https://huggingface.co/spaces/sentence-transformers/embeddings-semantic-search)"
   ]
  },
  {
   "cell_type": "markdown",
   "metadata": {
    "id": "TQD1Taj-FSO0"
   },
   "source": [
    " Let’s first create our map of frequently asked questions."
   ]
  },
  {
   "cell_type": "code",
   "execution_count": null,
   "metadata": {
    "id": "_KH01NEdFSO0"
   },
   "outputs": [],
   "source": [
    "# Data from https://faq.ssa.gov/en-US/topic/?id=CAT-01092\n",
    "\n",
    "faq = {\n",
    "    \"How do I get a replacement Medicare card?\": \"If your Medicare card was lost, stolen, or destroyed, you can request a replacement online at Medicare.gov.\",\n",
    "    \"How do I sign up for Medicare?\": \"If you already get Social Security benefits, you do not need to sign up for Medicare. We will automatically enroll you in Original Medicare (Part A and Part B) when you become eligible. We will mail you the information a few months before you become eligible.\",\n",
    "    \"What are Medicare late enrollment penalties?\": \"In most cases, if you don’t sign up for Medicare when you’re first eligible, you may have to pay a higher monthly premium. Find more information at https://faq.ssa.gov/en-us/Topic/article/KA-02995\",\n",
    "    \"Will my Medicare premiums be higher because of my higher income?\": \"Some people with higher income may pay a larger percentage of their monthly Medicare Part B and prescription drug costs based on their income. We call the additional amount the income-related monthly adjustment amount.\",\n",
    "    \"What is Medicare and who can get it?\": \"Medicare is a health insurance program for people age 65 or older. Some younger people are eligible for Medicare including people with disabilities, permanent kidney failure and amyotrophic lateral sclerosis (Lou Gehrig’s disease or ALS). Medicare helps with the cost of health care, but it does not cover all medical expenses or the cost of most long-term care.\",\n",
    "}"
   ]
  },
  {
   "cell_type": "markdown",
   "metadata": {
    "id": "lNBqB-8yFSO0"
   },
   "source": [
    "Once again, we use the `encode` method to obtain the embeddings of all the questions."
   ]
  },
  {
   "cell_type": "code",
   "execution_count": null,
   "metadata": {
    "id": "185YQc7rFSO0",
    "outputId": "0ee2b080-e1cb-42fd-8796-f95bbec8e0d4"
   },
   "outputs": [
    {
     "name": "stdout",
     "output_type": "stream",
     "text": [
      "(5, 384)\n"
     ]
    }
   ],
   "source": [
    "corpus_embeddings = model.encode(list(faq.keys()))\n",
    "print(corpus_embeddings.shape)"
   ]
  },
  {
   "cell_type": "markdown",
   "metadata": {
    "id": "zRFF3nTjFSO0"
   },
   "source": [
    "Once a user asks a question, we obtain its embedding. We usually refer to this embedding as the query embedding."
   ]
  },
  {
   "cell_type": "code",
   "execution_count": null,
   "metadata": {
    "id": "xDO1KWcVFSO0",
    "outputId": "6ab1db4d-3aec-485c-ba54-668280b6c6e2"
   },
   "outputs": [
    {
     "data": {
      "text/plain": [
       "(384,)"
      ]
     },
     "execution_count": null,
     "metadata": {},
     "output_type": "execute_result"
    }
   ],
   "source": [
    "user_question = \"Do I need to pay more after a raise?\"\n",
    "query_embedding = model.encode(user_question)\n",
    "query_embedding.shape"
   ]
  },
  {
   "cell_type": "markdown",
   "metadata": {
    "id": "kaVIie4hFSO0"
   },
   "source": [
    "We can now compute the similarity between the corpus embeddings and the query embedding. We could have a loop and use `util.pytorch.cos_sim` as we did before, but Sentence Transformers provides an even friendlier method called `semantic_search` that does all the work for us. It returns the top-k most similar embeddings  and their similarity score. Let's try it out!"
   ]
  },
  {
   "cell_type": "code",
   "execution_count": null,
   "metadata": {
    "id": "64Zh6S4qFSO0",
    "outputId": "2a48add3-2e42-4152-91e9-f87c35739ad0"
   },
   "outputs": [
    {
     "data": {
      "text/plain": [
       "[[{'corpus_id': 3, 'score': 0.35796287655830383},\n",
       "  {'corpus_id': 2, 'score': 0.2787758708000183},\n",
       "  {'corpus_id': 1, 'score': 0.15840476751327515}]]"
      ]
     },
     "execution_count": null,
     "metadata": {},
     "output_type": "execute_result"
    }
   ],
   "source": [
    "similarities = util.semantic_search(query_embedding, corpus_embeddings, top_k=3)\n",
    "similarities"
   ]
  },
  {
   "cell_type": "markdown",
   "metadata": {
    "id": "pdkzSmXUFSO0"
   },
   "source": [
    "Let’s now look at which questions and answers this corresponds to:"
   ]
  },
  {
   "cell_type": "code",
   "execution_count": null,
   "metadata": {
    "id": "cQaQGkhsFSO0",
    "outputId": "d6145426-1f00-4112-f6ee-b09996ed6267"
   },
   "outputs": [
    {
     "name": "stdout",
     "output_type": "stream",
     "text": [
      "Top 1 question (p=0.35796287655830383): Will my Medicare premiums be higher because of my higher income?\n",
      "Answer: Some people with higher income may pay a larger percentage of their monthly Medicare Part B and prescription drug costs based on their income. We call the additional amount the income-related monthly adjustment amount.\n",
      "Top 2 question (p=0.2787758708000183): What are Medicare late enrollment penalties?\n",
      "Answer: In most cases, if you don’t sign up for Medicare when you’re first eligible, you may have to pay a higher monthly premium. Find more information at https://faq.ssa.gov/en-us/Topic/article/KA-02995\n",
      "Top 3 question (p=0.15840476751327515): How do I sign up for Medicare?\n",
      "Answer: If you already get Social Security benefits, you do not need to sign up for Medicare. We will automatically enroll you in Original Medicare (Part A and Part B) when you become eligible. We will mail you the information a few months before you become eligible.\n"
     ]
    }
   ],
   "source": [
    "for i, result in enumerate(similarities[0]):\n",
    "    corpus_id = result[\"corpus_id\"]\n",
    "    score = result[\"score\"]\n",
    "    print(f\"Top {i+1} question (p={score}): {list(faq.keys())[corpus_id]}\")\n",
    "    print(f\"Answer: {list(faq.values())[corpus_id]}\")"
   ]
  },
  {
   "cell_type": "markdown",
   "metadata": {
    "id": "YFNkuEVxFSO1"
   },
   "source": [
    "Great, so given the question \"Do I need to pay more after a raise?\", we know that the most similar question is \"Will my Medicare premiums be higher because of my higher income?\" and hence we can return the provided answer. In practice, you would likely have thousands to millions of embeddings, but this was a simple yet powerful example of how embeddings can be used to find similar questions."
   ]
  },
  {
   "cell_type": "markdown",
   "metadata": {
    "id": "5xRHJSESFSO1"
   },
   "source": [
    "Now that we better understand what embeddings are and how they can be used, let’s do a deeper dive into them!"
   ]
  },
  {
   "cell_type": "markdown",
   "metadata": {
    "id": "3nRQl5MVFSO1"
   },
   "source": [
    "## From word embeddings to sentence embeddings\n",
    "\n",
    "### Word2Vec and GloVe\n",
    "\n",
    "It’s time to take a step back and learn more about embeddings and why they are needed. Neural networks, such as BERT, are not able to process words directly; they need numbers. And the way to provide words is to represent them as vectors, also called word embeddings.\n",
    "\n",
    "In the traditional setup, you define a vocabulary (which words are allowed), and then each word in this vocabulary has an assigned embedding. Words not in the vocabulary are mapped to a special token, usually called <UNK> (a standard placeholder for words not found during training). For example, let’s say we have a vocabulary of three words, and we assign each word a vector of size five. We could have the following embeddings:\n",
    "\n",
    "| Word | Embedding |\n",
    "| ---- | --------- |\n",
    "| king    | [0.15, 0.2, 0.2, 0.3, 0.5] |\n",
    "| queen   | [0.12, 0.1, 0.19, 0.3, 0.47] |\n",
    "| potato    | [0.13, 0.4, 0.1, 0.15, 0.01] |\n",
    "| `<UNK>`    | [0.01, 0.02, 0.01, 0.4, 0.11] |\n",
    "\n",
    "The embedding I wrote above are numbers that I wrote somewhat randomly. In practice, **the embeddings are learned**. This is the main idea of methods such as [Word2Vec](https://en.wikipedia.org/wiki/Word2vec) and [GloVe](https://nlp.stanford.edu/pubs/glove.pdf). They learn the embeddings of the words in a corpus in such a way that words that appear in similar contexts have similar embeddings. For example, the embeddings of \"king\" and \"queen\" are similar because they appear in similar contexts.\n",
    "\n",
    "[![Word embeddings](https://github.com/osanseviero/hackerllama/blob/main/nbs/blog/posts/sentence_embeddings/embedding.png?raw=1)](https://huggingface.co/spaces/sentence-transformers/embeddings-semantic-search)\n",
    "\n",
    "Some open-source libraries, such as Gensim and fastText, allow you to obtain pre-trained Word2Vec and GloVe embeddings quickly. In the good ol’ days of NLP (2013), people used these models to compute word embeddings, which were helpful as inputs to other models. For example, you can compute the word embeddings of each word in a sentence and then pass that as input to a sci-kit learn classifier to classify the sentiment of the sentence.\n",
    "\n",
    "Glove and Word2Vec have fixed representations. Once they are trained, each word is assigned a fixed vector representation, regardless of their context (so “bank” in “river bank” and “savings bank” would have the same embedding). **Word2vec and GloVe will struggle with words that have multiple meanings.**\n",
    "\n",
    "![The good ol' days of NLP](https://github.com/osanseviero/hackerllama/blob/main/nbs/blog/posts/sentence_embeddings/word2vec_meme.jpeg?raw=1)\n",
    "\n",
    "\n",
    ":::callout\n",
    "\n",
    "Understanding the details of word2vec and GloVe is unnecessary to understand the rest of the blog post and sentence embeddings, so I’ll skip them. I recommend reading this [chapter from the excellent interactive NLP course](https://lena-voita.github.io/nlp_course/word_embeddings.html) if you're interested.\n",
    "\n",
    "As a TL;DR\n",
    "\n",
    "* Word2Vec is trained by passing a very large corpus and training a shallow neural network to predict the surrounding words. Later alternatives predict the center word given the surrounding words.\n",
    "* GloVe is trained by looking at the co-occurrence matrix of words (how often words appear together within a certain distance) and then using that matrix to obtain the embeddings.\n",
    "\n",
    "Word2Vec and GloVe are trained with objectives that ensure that words appearing in similar contexts have similar embeddings.\n",
    "\n",
    ":::"
   ]
  },
  {
   "cell_type": "markdown",
   "metadata": {
    "id": "RvGvJsCqFSO1"
   },
   "source": [
    "### Word Embeddings with Transformers\n",
    "\n",
    "More recently, with the advent of transformers, we have new ways to compute embeddings. The embedding is also learned, but instead of training an embedding model and then another model for the specific task, transformers learn useful embeddings in the context of their task. For example, BERT, a popular transformer model, learns word embeddings in the context of masked language modeling (predicting which word to fill in the blank) and next sentence prediction (whether sentence B follows sentence A).\n",
    "\n",
    "Transformers are state-of-the-art in many NLP tasks and can capture contextual information that word2vec and GloVe cannot capture, thanks to a mechanism called attention. Attention allows the model to weigh other words' importance and capture contextual information. For example, in the sentence “I went to the bank to deposit money”, the word “bank” is ambiguous. Is it a river bank or a savings bank? The model can use the word “deposit” to understand that it’s a savings bank. These are **contextualized embeddings** - their word embedding can differ based on their surrounding words."
   ]
  },
  {
   "cell_type": "markdown",
   "metadata": {
    "id": "YrM23uhLFSO1"
   },
   "source": [
    "Ok...we talked a lot about word embeddings; time to run some code. Let's use a pre-trained transformer model, [bert-base-uncased](https://huggingface.co/bert-base-uncased), and obtain some word embeddings. We'll use the `transformers` library for this. Let's begin by loading the model and its tokenizer"
   ]
  },
  {
   "cell_type": "code",
   "execution_count": null,
   "metadata": {
    "id": "Tbqc6U_pFSO1"
   },
   "outputs": [],
   "source": [
    "from transformers import AutoModel, AutoTokenizer\n",
    "\n",
    "tokenizer = AutoTokenizer.from_pretrained(\"bert-base-uncased\")\n",
    "model = AutoModel.from_pretrained(\"bert-base-uncased\")"
   ]
  },
  {
   "cell_type": "markdown",
   "metadata": {
    "id": "Am84BZ1DFSO1"
   },
   "source": [
    "We haven’t talked about tokenization so far. Until now, we’ve assumed we split data into words. When using transformers, we divided text into tokens. For example, the word “banking” could be split into two tokens, “bank” and “ing”. The tokenizer is responsible for breaking the data into tokens, and the way it splits the data is model-specific and is a deterministic learning process, which means that the same word will always be split into the same tokens. Let’s see what this looks like in code:"
   ]
  },
  {
   "cell_type": "code",
   "execution_count": null,
   "metadata": {
    "id": "s2Ddd6AZFSO1",
    "outputId": "39e3ba31-55f0-43f0-b596-3e876faa131f"
   },
   "outputs": [
    {
     "data": {
      "text/plain": [
       "['[CLS]', 'the', 'king', 'and', 'the', 'queen', 'are', 'happy', '.', '[SEP]']"
      ]
     },
     "execution_count": null,
     "metadata": {},
     "output_type": "execute_result"
    }
   ],
   "source": [
    "text = \"The king and the queen are happy.\"\n",
    "tokenizer.tokenize(text, add_special_tokens=True)"
   ]
  },
  {
   "cell_type": "markdown",
   "metadata": {
    "id": "l-NsaGjPFSO1"
   },
   "source": [
    "Alright, in this example, each word was a token! (this is not always the case, as we'll soon see). But we also see two things that might be unexpected: `[CLS]` and `[SEP]`. These are special tokens added to the sentence's beginning and end. These are used because BERT was trained with that format. One of BERT's training objectives is next-sentence prediction, which means that it was trained to predict whether two sentences are consecutive. The `[CLS]` token represents the entire sentence, and the `[SEP]` token separates sentences. This will be interesting later when we talk about sentence embeddings."
   ]
  },
  {
   "cell_type": "markdown",
   "metadata": {
    "id": "VnBoGRlFFSO1"
   },
   "source": [
    " Let's now obtain the embeddings of each token."
   ]
  },
  {
   "cell_type": "code",
   "execution_count": null,
   "metadata": {
    "id": "Aik2TlKyFSO1",
    "outputId": "6a1ad733-4158-441b-c988-b8bfd5b92145"
   },
   "outputs": [
    {
     "data": {
      "text/plain": [
       "torch.Size([1, 10, 768])"
      ]
     },
     "execution_count": null,
     "metadata": {},
     "output_type": "execute_result"
    }
   ],
   "source": [
    "encoded_input = tokenizer(text, return_tensors=\"pt\")\n",
    "output = model(**encoded_input)\n",
    "output[\"last_hidden_state\"].shape"
   ]
  },
  {
   "cell_type": "markdown",
   "metadata": {
    "id": "RyYeMqx2FSO1"
   },
   "source": [
    "Great! BERT is giving us an embedding of 768 values for each token. Each of these tokens has semantic information - **they capture the meaning of the word in the context of the sentence**. Let's see if the embedding corresponding to the word \"king\" in this context is similar to the one in \"queen\"."
   ]
  },
  {
   "cell_type": "code",
   "execution_count": null,
   "metadata": {
    "id": "N_eIY8ZoFSO1",
    "outputId": "609eee6e-fa63-488a-d850-0982538cd505"
   },
   "outputs": [
    {
     "name": "stdout",
     "output_type": "stream",
     "text": [
      "Shape of embedding torch.Size([768])\n",
      "Similarity between king and queen embedding 0.7920711040496826\n"
     ]
    }
   ],
   "source": [
    "king_embedding = output[\"last_hidden_state\"][0][2]  # 2 is the position of king\n",
    "queen_embedding = output[\"last_hidden_state\"][0][5]  # 5 is the position of queen\n",
    "print(f\"Shape of embedding {king_embedding.shape}\")\n",
    "print(\n",
    "    f\"Similarity between king and queen embedding {util.pytorch_cos_sim(king_embedding, queen_embedding)[0][0]}\"\n",
    ")"
   ]
  },
  {
   "cell_type": "markdown",
   "metadata": {
    "id": "9la-wYShFSO1"
   },
   "source": [
    "Ok, it seems they are quite similar in this context! Let’s now look at the word “happy”."
   ]
  },
  {
   "cell_type": "code",
   "execution_count": null,
   "metadata": {
    "id": "fj0_O2EdFSO1",
    "outputId": "0661184c-e755-4fa4-d785-954e02b53cc1"
   },
   "outputs": [
    {
     "data": {
      "text/plain": [
       "tensor([[0.5239]], grad_fn=<MmBackward0>)"
      ]
     },
     "execution_count": null,
     "metadata": {},
     "output_type": "execute_result"
    }
   ],
   "source": [
    "happy_embedding = output.last_hidden_state[0][7]  # happy\n",
    "util.pytorch_cos_sim(king_embedding, happy_embedding)"
   ]
  },
  {
   "cell_type": "markdown",
   "metadata": {
    "id": "LZccP90GFSO5"
   },
   "source": [
    "This makes sense; the queen embedding is more similar to the king than the happy embedding.\n",
    "\n",
    "Let's now look at how the same word can have different values depending on the context:"
   ]
  },
  {
   "cell_type": "code",
   "execution_count": null,
   "metadata": {
    "id": "hn59rpOmFSO5",
    "outputId": "41742c18-acdb-4f08-9e11-e11352cff8e1"
   },
   "outputs": [
    {
     "data": {
      "text/plain": [
       "torch.Size([1, 7, 768])"
      ]
     },
     "execution_count": null,
     "metadata": {},
     "output_type": "execute_result"
    }
   ],
   "source": [
    "text = \"The angry and unhappy king\"\n",
    "encoded_input = tokenizer(text, return_tensors=\"pt\")\n",
    "output = model(**encoded_input)\n",
    "output[\"last_hidden_state\"].shape"
   ]
  },
  {
   "cell_type": "code",
   "execution_count": null,
   "metadata": {
    "id": "kwdxnxxGFSO5",
    "outputId": "83433611-fd0e-4738-855c-ae9f4887f38e"
   },
   "outputs": [
    {
     "data": {
      "text/plain": [
       "['[CLS]', 'the', 'angry', 'and', 'unhappy', 'king', '[SEP]']"
      ]
     },
     "execution_count": null,
     "metadata": {},
     "output_type": "execute_result"
    }
   ],
   "source": [
    "tokenizer.tokenize(text, add_special_tokens=True)"
   ]
  },
  {
   "cell_type": "code",
   "execution_count": null,
   "metadata": {
    "id": "niMOi3TJFSO5",
    "outputId": "59c5b0cd-90b1-47d0-c540-2410548803c1"
   },
   "outputs": [
    {
     "data": {
      "text/plain": [
       "tensor([[0.5740]], grad_fn=<MmBackward0>)"
      ]
     },
     "execution_count": null,
     "metadata": {},
     "output_type": "execute_result"
    }
   ],
   "source": [
    "king_embedding_2 = output[\"last_hidden_state\"][0][5]\n",
    "util.pytorch_cos_sim(king_embedding, king_embedding_2)"
   ]
  },
  {
   "cell_type": "markdown",
   "metadata": {
    "id": "tWieeRnFFSO5"
   },
   "source": [
    "Wow! Although both embeddings seem to correspond to the \"king\" embedding, they are pretty different in the vector space. What is going on? Remember that these are contextual embeddings. The context of the first sentence is quite positive, while the second sentence is quite negative. Hence, the embeddings are different."
   ]
  },
  {
   "cell_type": "markdown",
   "metadata": {
    "id": "pMnjb4vEFSO5"
   },
   "source": [
    "Previously, we discussed how the tokenizer might split a word into multiple tokens. A valid question is how we would obtain the word embedding in such a case. Let’s look at an example with the long word “tokenization.”"
   ]
  },
  {
   "cell_type": "code",
   "execution_count": null,
   "metadata": {
    "id": "Pwu7jiUNFSO5",
    "outputId": "78760504-829d-4759-ea06-d1c3f9aad715"
   },
   "outputs": [
    {
     "data": {
      "text/plain": [
       "['token', '##ization']"
      ]
     },
     "execution_count": null,
     "metadata": {},
     "output_type": "execute_result"
    }
   ],
   "source": [
    "tokenizer.tokenize(\"tokenization\")"
   ]
  },
  {
   "cell_type": "markdown",
   "metadata": {
    "id": "Erv2F52zFSO5"
   },
   "source": [
    "The word \"tokenization\" was split into two tokens, but we care about the embedding of \"tokenization\"! What can we do? We can do a **pooling strategy** in which we obtain the embedding of each token and then average them to obtain the word embedding. Let's try it out!\n",
    "\n",
    "As before, we get started by tokenizing the test and running the token IDs through the model."
   ]
  },
  {
   "cell_type": "code",
   "execution_count": null,
   "metadata": {
    "id": "o_0uxG7TFSO5"
   },
   "outputs": [],
   "source": [
    "text = \"this is about tokenization\"\n",
    "\n",
    "encoded_input = tokenizer(text, return_tensors=\"pt\")\n",
    "output = model(**encoded_input)"
   ]
  },
  {
   "cell_type": "markdown",
   "metadata": {
    "id": "HUOZZ7UrFSO5"
   },
   "source": [
    "Let's look at the tokenization of the sentence:"
   ]
  },
  {
   "cell_type": "code",
   "execution_count": null,
   "metadata": {
    "id": "3JNPKyueFSO5",
    "outputId": "88daf401-0442-4c9b-e507-5e127b05173b"
   },
   "outputs": [
    {
     "data": {
      "text/plain": [
       "['[CLS]', 'this', 'is', 'about', 'token', '##ization', '[SEP]']"
      ]
     },
     "execution_count": null,
     "metadata": {},
     "output_type": "execute_result"
    }
   ],
   "source": [
    "tokenizer.tokenize(text, add_special_tokens=True)"
   ]
  },
  {
   "cell_type": "markdown",
   "metadata": {
    "id": "wCEe4YvfFSO5"
   },
   "source": [
    "So we want to pool the embeddings of the tokens 4 and 5 by averaging them. Let's first obtain the embeddings of the tokens."
   ]
  },
  {
   "cell_type": "code",
   "execution_count": null,
   "metadata": {
    "id": "2MfvYK4lFSO5",
    "outputId": "52cb913e-7279-4485-f784-26dfc19d1edf"
   },
   "outputs": [
    {
     "data": {
      "text/plain": [
       "torch.Size([2, 768])"
      ]
     },
     "execution_count": null,
     "metadata": {},
     "output_type": "execute_result"
    }
   ],
   "source": [
    "word_token_indices = [4, 5]\n",
    "word_embeddings = output[\"last_hidden_state\"][0, word_token_indices]\n",
    "word_embeddings.shape"
   ]
  },
  {
   "cell_type": "markdown",
   "metadata": {
    "id": "AJjDdcVJFSO5"
   },
   "source": [
    "And now let's average them using `torch.mean`."
   ]
  },
  {
   "cell_type": "code",
   "execution_count": null,
   "metadata": {
    "id": "tS2GiQqzFSO5",
    "outputId": "286cfd8a-ac99-4257-904d-066aff6a4806"
   },
   "outputs": [
    {
     "data": {
      "text/plain": [
       "torch.Size([768])"
      ]
     },
     "execution_count": null,
     "metadata": {},
     "output_type": "execute_result"
    }
   ],
   "source": [
    "import torch\n",
    "\n",
    "torch.mean(word_embeddings, dim=0).shape"
   ]
  },
  {
   "cell_type": "markdown",
   "metadata": {
    "id": "flqKZGrCFSO5"
   },
   "source": [
    "Let's wrap all of it in a function so we can easily use it later."
   ]
  },
  {
   "cell_type": "code",
   "execution_count": null,
   "metadata": {
    "id": "Op1Bt5I1FSO5"
   },
   "outputs": [],
   "source": [
    "def get_word_embedding(text, word):\n",
    "    # Encode the text and do a forward pass through the model to get the hidden states\n",
    "    encoded_input = tokenizer(text, return_tensors=\"pt\")\n",
    "    with torch.no_grad():  # We don't need gradients for embedding extraction\n",
    "        output = model(**encoded_input)\n",
    "\n",
    "    # Find the indices for the word\n",
    "    word_ids = tokenizer.encode(\n",
    "        word, add_special_tokens=False\n",
    "    )  # No special tokens anymore\n",
    "    word_token_indices = [\n",
    "        i\n",
    "        for i, token_id in enumerate(encoded_input[\"input_ids\"][0])\n",
    "        if token_id in word_ids\n",
    "    ]\n",
    "\n",
    "    # Pool the embeddings for the word\n",
    "    word_embeddings = output[\"last_hidden_state\"][0, word_token_indices]\n",
    "    return torch.mean(word_embeddings, dim=0)"
   ]
  },
  {
   "cell_type": "markdown",
   "metadata": {
    "id": "7PT-lcaeFSO6"
   },
   "source": [
    "**Example 1.** Similarity between king and queen embeddings in the context of both being angry."
   ]
  },
  {
   "cell_type": "code",
   "execution_count": null,
   "metadata": {
    "id": "uJkaR9T4FSO6",
    "outputId": "375e89a3-affd-4718-d0c7-29d4f452daaf"
   },
   "outputs": [
    {
     "data": {
      "text/plain": [
       "tensor([[0.8564]])"
      ]
     },
     "execution_count": null,
     "metadata": {},
     "output_type": "execute_result"
    }
   ],
   "source": [
    "util.pytorch_cos_sim(\n",
    "    get_word_embedding(\"The king is angry\", \"king\"),\n",
    "    get_word_embedding(\"The queen is angry\", \"queen\"),\n",
    ")"
   ]
  },
  {
   "cell_type": "markdown",
   "metadata": {
    "id": "7JVLIPOJFSO6"
   },
   "source": [
    "**Example 2.** Similarity between king and queen embeddings in the context of the king being happy and the queen angry. Notice how they are less similar than in the previous example."
   ]
  },
  {
   "cell_type": "code",
   "execution_count": null,
   "metadata": {
    "id": "__YF8SKXFSO6",
    "outputId": "85652cf0-55d1-40e0-de24-47bf28be10f6"
   },
   "outputs": [
    {
     "data": {
      "text/plain": [
       "tensor([[0.8273]])"
      ]
     },
     "execution_count": null,
     "metadata": {},
     "output_type": "execute_result"
    }
   ],
   "source": [
    "util.pytorch_cos_sim(\n",
    "    get_word_embedding(\"The king is happy\", \"king\"),\n",
    "    get_word_embedding(\"The queen is angry\", \"queen\"),\n",
    ")"
   ]
  },
  {
   "cell_type": "markdown",
   "metadata": {
    "id": "VxklWycSFSO6"
   },
   "source": [
    "**Example 3**. Similarity between king embeddings in two very different contexts. Even if they are the same word, the different context of the word makes the embeddings very different."
   ]
  },
  {
   "cell_type": "code",
   "execution_count": null,
   "metadata": {
    "id": "zjEBpEZVFSO6",
    "outputId": "152adeca-8676-4741-d398-d0d0b858f281"
   },
   "outputs": [
    {
     "data": {
      "text/plain": [
       "tensor([[0.5740]])"
      ]
     },
     "execution_count": null,
     "metadata": {},
     "output_type": "execute_result"
    }
   ],
   "source": [
    "# This is same as before\n",
    "util.pytorch_cos_sim(\n",
    "    get_word_embedding(\"The king and the queen are happy.\", \"king\"),\n",
    "    get_word_embedding(\"The angry and unhappy king\", \"king\"),\n",
    ")"
   ]
  },
  {
   "cell_type": "markdown",
   "metadata": {
    "id": "vkyox9xUFSO6"
   },
   "source": [
    "**Example 4.** Similarity between a word that has two different meanings. The word \"bank\" is ambiguous, it can be a river bank or a savings bank. The embeddings are different depending on the context."
   ]
  },
  {
   "cell_type": "code",
   "execution_count": null,
   "metadata": {
    "id": "PdwmpmdFFSO6",
    "outputId": "1298a43b-e891-4f26-a140-d09235b1d0ff"
   },
   "outputs": [
    {
     "data": {
      "text/plain": [
       "tensor([[0.7587]])"
      ]
     },
     "execution_count": null,
     "metadata": {},
     "output_type": "execute_result"
    }
   ],
   "source": [
    "util.pytorch_cos_sim(\n",
    "    get_word_embedding(\"The river bank\", \"bank\"),\n",
    "    get_word_embedding(\"The savings bank\", \"bank\"),\n",
    ")"
   ]
  },
  {
   "cell_type": "markdown",
   "metadata": {
    "id": "hv94bYw6FSO6"
   },
   "source": [
    "I hope this gave an idea about what word embeddings are. Now that we understand word embeddings let’s look into sentence embeddings!"
   ]
  },
  {
   "cell_type": "markdown",
   "metadata": {
    "id": "zLesUjzmFSO6"
   },
   "source": [
    "### Sentence Embeddings\n",
    "\n",
    "Just as word embeddings are vector representations of words, sentence embeddings are vector representations of a sentence. We can also compute embeddings of paragraphs and documents! Let’s look into it.\n",
    "\n",
    "There are three approaches we can take: `[CLS]` pooling, max pooling and mean pooling.\n",
    "\n",
    "* Mean pooling means averaging all the word embeddings of the sentence.\n",
    "* Max pooling means taking the maximum value of each dimension of the word embeddings.\n",
    "* `[CLS]` pooling means using the embedding corresponding to the `[CLS]` token as the sentence embedding. Let's look deeper into this last one, which is the least intuitive.\n",
    "\n",
    "#### [CLS] Pooling\n",
    "\n",
    "As we saw before, BERT adds a special token `[CLS]` at the beginning of the sentence. This token is used to represent the entire sentence. For example, when someone wants to fine-tune a BERT model to perform text classification, a common approach is to add a linear layer on top of the `[CLS]` embedding. The idea is that the `[CLS]` token will capture the meaning of the entire sentence.\n",
    "\n",
    "![The hidden state/embedding corresponding to the `CLS` token can be used to fine-tune a classification model.](https://github.com/osanseviero/hackerllama/blob/main/nbs/blog/posts/sentence_embeddings/classification.png?raw=1)\n",
    "\n",
    "We can take the same approach and use the embedding of the [CLS] token as the sentence embedding. Let’s see how this works in code. We’ll use the same sentence as before."
   ]
  },
  {
   "cell_type": "code",
   "execution_count": null,
   "metadata": {
    "id": "fPy57dq1FSO6",
    "outputId": "d5b0c183-bdcd-4767-ed44-7fc9910c902a"
   },
   "outputs": [
    {
     "data": {
      "text/plain": [
       "torch.Size([1, 768])"
      ]
     },
     "execution_count": null,
     "metadata": {},
     "output_type": "execute_result"
    }
   ],
   "source": [
    "encoded_input = tokenizer(\"This is an example sentence\", return_tensors=\"pt\")\n",
    "model_output = model(**encoded_input)\n",
    "sentence_embedding = model_output[\"last_hidden_state\"][:, 0, :]\n",
    "sentence_embedding.shape"
   ]
  },
  {
   "cell_type": "markdown",
   "metadata": {
    "id": "gaIOWKc5FSO6"
   },
   "source": [
    "Great! We obtained the model output's first embedding, corresponding to the [CLS] token. Let’s wrap this code into a function."
   ]
  },
  {
   "cell_type": "code",
   "execution_count": null,
   "metadata": {
    "id": "3zK0Q6OqFSO6"
   },
   "outputs": [],
   "source": [
    "def cls_pooling(model_output):\n",
    "    return model_output[\"last_hidden_state\"][:, 0, :]\n",
    "\n",
    "\n",
    "def get_sentence_embedding(text):\n",
    "    encoded_input = tokenizer(text, return_tensors=\"pt\")\n",
    "    with torch.no_grad():\n",
    "        model_output = model(**encoded_input)\n",
    "    return cls_pooling(model_output)"
   ]
  },
  {
   "cell_type": "code",
   "execution_count": null,
   "metadata": {
    "id": "gY3-cm2TFSO6",
    "outputId": "1e923f74-db25-4ba8-eb78-af94a29d1165"
   },
   "outputs": [
    {
     "name": "stdout",
     "output_type": "stream",
     "text": [
      "tensor([[0.9261]]) The weather today is beautiful\n",
      "tensor([[0.8903]]) It's raining!\n",
      "tensor([[0.9317]]) Dogs are awesome\n"
     ]
    }
   ],
   "source": [
    "embeddings = [get_sentence_embedding(sentence) for sentence in sentences]\n",
    "query_embedding = get_sentence_embedding(\"Today is a sunny day\")\n",
    "for embedding, sentence in zip(embeddings, sentences):\n",
    "    similarity = util.pytorch_cos_sim(query_embedding, embedding)\n",
    "    print(similarity, sentence)"
   ]
  },
  {
   "cell_type": "markdown",
   "metadata": {
    "id": "MutEmkpHFSO6"
   },
   "source": [
    "Hmm...something looks off here 🤔 One would have expected this to work out of the box.\n",
    "\n",
    "Well, it turns out BERT has an additional trick. As mentioned before, when BERT was trained, the CLS token was used to predict whether two sentences were consecutive. To do so, BERT processes the [CLS]-corresponding embedding and passes it through a linear layer and a tanh activation function (see [code here](https://github.com/huggingface/transformers/blob/95754b47a6d4fbdad3440a45762531e8c471c528/src/transformers/models/bert/modeling_bert.py#L652C7-L665)). The idea is that the linear layer and the tanh activation function will learn a better representation of the `[CLS]` token.  This is the `pooler` component of the BERT model and is used to obtain the `model_output.pooler_output`.\n",
    "\n",
    ":::callout\n",
    "\n",
    "This might sound confusing, so let’s repeat what’s happening here.\n",
    "\n",
    "1. BERT outputs the embeddings of each token.\n",
    "2. The first embedding corresponds to the `[CLS]` token.\n",
    "3. The `[CLS]` token is processed through a linear layer and a tanh activation function to obtain the `pooler_output`.\n",
    "\n",
    "During training, the pooler_output is used to predict whether two sentences are consecutive (one of the pre-training tasks of BERT). This makes processing the [CLS] token more meaningful than the raw [CLS] embedding.\n",
    "\n",
    ":::"
   ]
  },
  {
   "cell_type": "markdown",
   "metadata": {
    "id": "FocmWe_jFSO6"
   },
   "source": [
    "To show that there is no magic going on here, we can either pass the list of word embeddings to `model.pooler` or simply get the `pooler_output` from the model output. Let's try it out!"
   ]
  },
  {
   "cell_type": "code",
   "execution_count": null,
   "metadata": {
    "id": "2QXwMo5sFSO6",
    "outputId": "ad626d10-9840-4859-dd3b-b0fdf2bc3774"
   },
   "outputs": [
    {
     "data": {
      "text/plain": [
       "tensor([-0.9302, -0.4884, -0.4387,  0.8024,  0.3668, -0.3349,  0.9438,  0.3593,\n",
       "        -0.3216, -1.0000], grad_fn=<SliceBackward0>)"
      ]
     },
     "execution_count": null,
     "metadata": {},
     "output_type": "execute_result"
    }
   ],
   "source": [
    "model.pooler(model_output[\"last_hidden_state\"])[0][:10]"
   ]
  },
  {
   "cell_type": "code",
   "execution_count": null,
   "metadata": {
    "id": "EzCC3JuVFSO6",
    "outputId": "10369835-d91a-4f86-fd45-242acbfa3bac"
   },
   "outputs": [
    {
     "data": {
      "text/plain": [
       "tensor([-0.9302, -0.4884, -0.4387,  0.8024,  0.3668, -0.3349,  0.9438,  0.3593,\n",
       "        -0.3216, -1.0000], grad_fn=<SliceBackward0>)"
      ]
     },
     "execution_count": null,
     "metadata": {},
     "output_type": "execute_result"
    }
   ],
   "source": [
    "model_output[\"pooler_output\"][0][:10]"
   ]
  },
  {
   "cell_type": "markdown",
   "metadata": {
    "id": "dwe9uYPBFSO6"
   },
   "source": [
    "Yay! As you can see, the first ten elements of the embedding are identical! Let’s now re-compute the distances using this new embedding technique:"
   ]
  },
  {
   "cell_type": "code",
   "execution_count": null,
   "metadata": {
    "id": "umsT11onFSO7",
    "outputId": "3f09444d-6944-4972-863c-4642a6677049"
   },
   "outputs": [
    {
     "name": "stdout",
     "output_type": "stream",
     "text": [
      "tensor([[0.9673]], grad_fn=<MmBackward0>) The weather today is beautiful\n",
      "tensor([[0.9029]], grad_fn=<MmBackward0>) It's raining!\n",
      "tensor([[0.8930]], grad_fn=<MmBackward0>) Dogs are awesome\n"
     ]
    }
   ],
   "source": [
    "def cls_pooling(model_output):\n",
    "    return model.pooler(model_output[\"last_hidden_state\"])  # we changed this\n",
    "\n",
    "\n",
    "# This stays the same\n",
    "embeddings = [get_sentence_embedding(sentence) for sentence in sentences]\n",
    "query_embedding = get_sentence_embedding(\"Today is a sunny day\")\n",
    "for embedding, sentence in zip(embeddings, sentences):\n",
    "    similarity = util.pytorch_cos_sim(query_embedding, embedding)\n",
    "    print(similarity, sentence)"
   ]
  },
  {
   "cell_type": "markdown",
   "metadata": {
    "id": "f_yvK20KFSO7"
   },
   "source": [
    "Much, much better! We just obtained the closest sentences to \"Today is a sunny day\"."
   ]
  },
  {
   "cell_type": "markdown",
   "metadata": {
    "id": "i36gWwZMFSO7"
   },
   "source": [
    "## Sentence Transformers\n",
    "\n",
    "### Using the transformers library\n",
    "\n",
    "This yields some decent results, but in practice, this was not much better than using Word2Vec or GloVe word embeddings and averaging them. The reason is that the [CLS] token is not trained to be a good sentence embedding. It’s trained to be a good sentence embedding for next-sentence prediction!\n",
    "\n",
    "Introducing 🥁🥁🥁 Sentence Transformers! Sentence Sentence Transformers (also known as SBERT) have a special training technique focusing on yielding high-quality sentence embeddings. Just as in the TL;DR section of this blog post, let's use the [all-MiniLM-L6-v2](https://huggingface.co/sentence-transformers/all-MiniLM-L6-v2) model.  In the beginning, we used the `sentence-transformers` library, which is a high-level wrapper library around `transformers`. Let's try to go the hard way first! The process is as follows:\n",
    "\n",
    "1. We tokenize the input sentence.\n",
    "2. We process the tokens through the model.\n",
    "3. We calculate the mean of the token embeddings.\n",
    "4. We normalize the embeddings to ensure the embedding vector has a unit length."
   ]
  },
  {
   "cell_type": "markdown",
   "metadata": {
    "id": "vq7A5nw7FSO7"
   },
   "source": [
    "Just as before, we can load the model and the tokenizer, tokenize the sentence and pass it to the model"
   ]
  },
  {
   "cell_type": "code",
   "execution_count": null,
   "metadata": {
    "id": "vlWktlq3FSO7"
   },
   "outputs": [],
   "source": [
    "tokenizer = AutoTokenizer.from_pretrained(\"sentence-transformers/all-MiniLM-L6-v2\")\n",
    "model = AutoModel.from_pretrained(\"sentence-transformers/all-MiniLM-L6-v2\")\n",
    "encoded_input = tokenizer(\"Today is a sunny day\", return_tensors=\"pt\")\n",
    "model_output = model(**encoded_input)"
   ]
  },
  {
   "cell_type": "markdown",
   "metadata": {
    "id": "y6G3KEBdFSO7"
   },
   "source": [
    "What we’ve done until now is very similar to what we did before, except that we are using a different model. The next step is to do pooling. While previously we did [CLS] pooling, sentence transformers usually use mean or max pooling. Let’s try it out!"
   ]
  },
  {
   "cell_type": "code",
   "execution_count": null,
   "metadata": {
    "id": "qfuRXQ40FSO7",
    "outputId": "441dba8c-0c49-4d86-ad35-1e9677e4200a"
   },
   "outputs": [
    {
     "data": {
      "text/plain": [
       "torch.Size([1, 7, 384])"
      ]
     },
     "execution_count": null,
     "metadata": {},
     "output_type": "execute_result"
    }
   ],
   "source": [
    "token_embeddings = model_output[\"last_hidden_state\"]\n",
    "token_embeddings.shape"
   ]
  },
  {
   "cell_type": "markdown",
   "metadata": {
    "id": "pRbqM1qHFSO7"
   },
   "source": [
    "Note how, with this model, each embedding is smaller (384 values rather than 768). We can now compute the mean of the embeddings to obtain the sentence embedding."
   ]
  },
  {
   "cell_type": "code",
   "execution_count": null,
   "metadata": {
    "id": "pXxBXXIjFSO7",
    "outputId": "a01c29d6-8b61-4ce3-efc0-361f71a5ab49"
   },
   "outputs": [
    {
     "data": {
      "text/plain": [
       "torch.Size([1, 384])"
      ]
     },
     "execution_count": null,
     "metadata": {},
     "output_type": "execute_result"
    }
   ],
   "source": [
    "mean_embedding = torch.mean(token_embeddings, dim=1)\n",
    "mean_embedding.shape"
   ]
  },
  {
   "cell_type": "markdown",
   "metadata": {
    "id": "ppurBjfaFSO7"
   },
   "source": [
    "The last step is to perform normalization. Normalization ensures that the embedding vector has a unit length, which means its length (or magnitude) is 1.\n",
    "\n",
    ":::{.callout-note title=\"What is normalization?\"}\n",
    "\n",
    "To understand why we do normalization, revisiting some vector math is helpful. For a vector v with components (v1, v2, …, vn), it’s length is defined as\n",
    "\n",
    "$$\n",
    "\\| \\mathbf{v} \\| = \\sqrt{v_1^2 + v_2^2 + \\ldots + v_n^2}\n",
    "$$\n",
    "\n",
    "When normalizing a vector, we scale the values so that the vector length is 1. This is done by dividing each vector element by the vector’s magnitude.\n",
    "\n",
    "$$\n",
    "\\mathbf{u} = \\frac{\\mathbf{v}}{\\| \\mathbf{v} \\|}\n",
    "$$\n",
    "\n",
    ":::\n",
    "\n",
    "This is particularly helpful when we want to compare vectors. For example, if we want to compute the cosine similarity between two vectors, we usually compare their direction rather than their magnitude. Normalizing the vectors ensures that each vector contributes equally to the similarity. We’ll talk more about embedding comparisons soon! Let’s try it out!\n",
    "\n",
    ":::{.callout-note}\n",
    "\n",
    "Actually, we are using cosine similarity to compute the similarity between embeddings. As we'll see later in the blog post, the magnitude of the embeddings is not relevant when computing the cosine similarity, but it's still a good think to normalize them in case we want to experiment with other ways to measure distances.\n",
    "\n",
    ":::"
   ]
  },
  {
   "cell_type": "code",
   "execution_count": null,
   "metadata": {
    "id": "X-kQJW1DFSO7",
    "outputId": "e40f3f90-eb0d-402e-8a15-bfe33b14df08"
   },
   "outputs": [
    {
     "data": {
      "text/plain": [
       "torch.Size([1, 384])"
      ]
     },
     "execution_count": null,
     "metadata": {},
     "output_type": "execute_result"
    }
   ],
   "source": [
    "import torch.nn.functional as F\n",
    "\n",
    "normalized_embedding = F.normalize(mean_embedding)\n",
    "normalized_embedding.shape"
   ]
  },
  {
   "cell_type": "markdown",
   "metadata": {
    "id": "cVV1LEpdFSO7"
   },
   "source": [
    "Let's wrap this in a function!"
   ]
  },
  {
   "cell_type": "code",
   "execution_count": null,
   "metadata": {
    "id": "I3uj5wAiFSO7",
    "outputId": "320bcd2d-5816-4ec6-ad27-98793d0e137d"
   },
   "outputs": [
    {
     "data": {
      "text/plain": [
       "tensor([-0.0926,  0.5913,  0.5535,  0.4214,  0.2129])"
      ]
     },
     "execution_count": null,
     "metadata": {},
     "output_type": "execute_result"
    }
   ],
   "source": [
    "def mean_pooling(model_output):\n",
    "    return torch.mean(model_output[\"last_hidden_state\"], dim=1)\n",
    "\n",
    "\n",
    "def get_sentence_embedding(text):\n",
    "    encoded_input = tokenizer(text, return_tensors=\"pt\")\n",
    "    with torch.no_grad():\n",
    "        model_output = model(**encoded_input)\n",
    "    sentence_embeddings = mean_pooling(model_output)\n",
    "    return F.normalize(sentence_embeddings)\n",
    "\n",
    "\n",
    "get_sentence_embedding(\"Today is a sunny day\")[0][:5]"
   ]
  },
  {
   "cell_type": "markdown",
   "metadata": {
    "id": "FdH5L1RwFSO7"
   },
   "source": [
    "In practice, you'll likely be encoding batches of sentences, so we need to make some changes\n",
    "\n",
    "* Modify the tokenization so we apply `truncation` (cutting the sentence if it's longer than the maximum length) and `padding` (adding `[PAD]` tokens to the end of the sentence).\n",
    "* Modify the pooling so we take the attention mask into account. The attention mask is a vector of 0s and 1s that indicates which tokens are real and which are padding. We want to ignore the padding tokens when computing the mean!"
   ]
  },
  {
   "cell_type": "code",
   "execution_count": null,
   "metadata": {
    "id": "MLIE9BdkFSO7"
   },
   "outputs": [],
   "source": [
    "def mean_pooling(model_output, attention_mask):\n",
    "    token_embeddings = model_output[\"last_hidden_state\"]\n",
    "    input_mask_expanded = (\n",
    "        attention_mask.unsqueeze(-1).expand(token_embeddings.size()).float()\n",
    "    )\n",
    "    return torch.sum(token_embeddings, 1) / torch.clamp(\n",
    "        input_mask_expanded.sum(1), min=1e-9\n",
    "    )\n",
    "\n",
    "\n",
    "# This now receives a list of sentences\n",
    "def get_sentence_embedding(sentences):\n",
    "    encoded_input = tokenizer(\n",
    "        sentences, padding=True, truncation=True, return_tensors=\"pt\"\n",
    "    )\n",
    "    with torch.no_grad():\n",
    "        model_output = model(**encoded_input)\n",
    "    sentence_embeddings = mean_pooling(model_output, encoded_input[\"attention_mask\"])\n",
    "    return F.normalize(sentence_embeddings)"
   ]
  },
  {
   "cell_type": "code",
   "execution_count": null,
   "metadata": {
    "id": "GZxu1-THFSO7",
    "outputId": "e27e8f3d-f57e-489e-84d5-05368ea1cdb3"
   },
   "outputs": [
    {
     "data": {
      "text/plain": [
       "tensor([-0.0163,  0.1041,  0.0974,  0.0742,  0.0375])"
      ]
     },
     "execution_count": null,
     "metadata": {},
     "output_type": "execute_result"
    }
   ],
   "source": [
    "query_embedding = get_sentence_embedding(\"Today is a sunny day\")[0]\n",
    "query_embedding[:5]"
   ]
  },
  {
   "cell_type": "markdown",
   "metadata": {
    "id": "0Crt0YtyFSO7"
   },
   "source": [
    "We got the same result, great! Let's now repeat our search example from before."
   ]
  },
  {
   "cell_type": "code",
   "execution_count": null,
   "metadata": {
    "id": "nvizzQrHFSO7",
    "outputId": "89abc5c9-d7bf-4832-ea95-a961d8cf4c69"
   },
   "outputs": [
    {
     "name": "stdout",
     "output_type": "stream",
     "text": [
      "tensor([[0.7344]]) The weather today is beautiful\n",
      "tensor([[0.4180]]) It's raining!\n",
      "tensor([[0.1060]]) Dogs are awesome\n"
     ]
    }
   ],
   "source": [
    "embeddings = [get_sentence_embedding(sentence) for sentence in sentences]\n",
    "for embedding, sentence in zip(embeddings, sentences):\n",
    "    similarity = util.pytorch_cos_sim(query_embedding, embedding)\n",
    "    print(similarity, sentence)"
   ]
  },
  {
   "cell_type": "markdown",
   "metadata": {
    "id": "4xdFJRHIFSO7"
   },
   "source": [
    "Nice! Compared to the vanilla BERT [CLS]-pooled embeddings, the sentence transformer embeddings are more meaningful and have a larger difference between the unrelated vectors!"
   ]
  },
  {
   "cell_type": "markdown",
   "metadata": {
    "id": "m7W21hiBFSO7"
   },
   "source": [
    ":::callout\n",
    "\n",
    "When to use each pooling strategy? It depends on the task.\n",
    "\n",
    "* `[CLS]` pooling is usually used when the transformer model has been fine-tuned on a specific downstream task that makes the `[CLS]` token very useful.\n",
    "* Mean pooling is usually more effective on models that have not been fine-tuned on a downstream task. It ensures that all parts of the sentence are represented equally in the embedding and can work for long sentences where the influence of all tokens should be captured.\n",
    "* Max pooling can be useful to capture the most important features in a sentence. This can be very useful if particular keywords are very informative, but it might miss the subtler context.\n",
    "\n",
    "In practice, a pooling method will be stored with the model, and you won’t have to worry about it. If there’s no method specified, mean pooling is usually a good default.\n",
    "\n",
    ":::"
   ]
  },
  {
   "cell_type": "markdown",
   "metadata": {
    "id": "_3n0AtTAFSO8"
   },
   "source": [
    "### Using the sentence-transformers library\n",
    "\n",
    "This was relatively easy, but the `sentence-transformers` library makes it even easier for us to do all of this! Here is the same code as in the TL;DR section."
   ]
  },
  {
   "cell_type": "code",
   "execution_count": null,
   "metadata": {
    "id": "jixcvIJjFSO8",
    "outputId": "14419cb6-6da5-4336-e09a-1dd9948dbc69"
   },
   "outputs": [
    {
     "name": "stdout",
     "output_type": "stream",
     "text": [
      "tensor([[0.7344]]) The weather today is beautiful\n",
      "tensor([[0.4180]]) It's raining!\n",
      "tensor([[0.1060]]) Dogs are awesome\n"
     ]
    }
   ],
   "source": [
    "from sentence_transformers import SentenceTransformer\n",
    "\n",
    "# We load the model\n",
    "model = SentenceTransformer(\"sentence-transformers/all-MiniLM-L6-v2\")\n",
    "\n",
    "query_embedding = model.encode(\"Today is a sunny day\")\n",
    "embeddings = model.encode(sentences)\n",
    "\n",
    "for embedding, sentence in zip(embeddings, sentences):\n",
    "    similarity = util.pytorch_cos_sim(query_embedding, embedding)\n",
    "    print(similarity, sentence)"
   ]
  },
  {
   "cell_type": "markdown",
   "metadata": {
    "id": "bIC64PPWFSO8"
   },
   "source": [
    "This is quite powerful! If you had to implement a feature to identify duplicate questions without using ML, you would likely have to implement a lexical search system (which looks at exact matches of the input question), a fuzzy search system (which looks at approximate matches of the input question), or a statistical search system (which looks at the frequency of words in the input question).\n",
    "\n",
    "With embeddings, we can easily find similar questions without implementing any of these systems and having excellent results!"
   ]
  },
  {
   "cell_type": "markdown",
   "metadata": {
    "id": "PAiuFodoFSO8"
   },
   "source": [
    "The following image is a good example of how embeddings can be used to find code that would answer a user’s question.\n",
    "\n",
    "![Image of code search](https://github.com/osanseviero/hackerllama/blob/main/nbs/blog/posts/sentence_embeddings/search.png?raw=1)"
   ]
  },
  {
   "cell_type": "markdown",
   "metadata": {
    "id": "sXscf2h5FSO8"
   },
   "source": [
    "### Embedding dimensions\n",
    "\n",
    "As you saw before, the model we used, all-MiniLM-L6-v2, generates sentence embeddings of 384 values. This is a hyperparameter of the model and can be changed. The larger the embedding size, the more information the embedding can capture. However, larger embeddings are more expensive to compute and store.\n",
    "\n",
    "The embeddings of popular open-source models go from 384 to 1024. The best current model, as of the time of writing, has embedding dimensions of 4096 values, but the model is much larger (7 billion parameters) compared to other models. In the closed-sourced world, Cohere has APIs that go from 384 to 4096 dimensions, OpenAI has embeddings of 1536, and so on. **Embedding dimension is a trade-off**. If you use very large embeddings, you will potentially get better results, but you will also have to pay more for hosting and inference. If you use vector databases, you will also have to pay more for storage."
   ]
  },
  {
   "cell_type": "markdown",
   "metadata": {
    "id": "pthsFcxsFSO8"
   },
   "source": [
    "### Sequence length\n",
    "\n",
    "One of the limitations of transformer models is that they have a maximum sequence length. This means that they can only process a certain number of tokens. For example, BERT has a maximum context length of 512 tokens. This means that if you want to encode a sentence with more than 512 tokens, you will have to find ways to work around this limitation. For example, you could split the sentence into multiple sentences of 512 tokens and then average the embeddings. This is not ideal because the model will not be able to capture the context of the entire sentence.\n",
    "\n",
    "This is not a problem for most use cases, but it can be a problem for long documents. For example, if you want to encode a 1000-word document, you will have to split it into multiple sentences of 512 tokens. This is not ideal because the model will not be able to capture the context of the entire document. Another approach can be to first generate a summary of the text and then encode the summary. This is a good approach if you want to encode long documents, but will require a good summarization model that might be too slow. Alternatively, you might know if a specific part of the document is good (such as abstracts, introductions, conclusions, etc.) and only encode that part if that's the most meaningful part for your task."
   ]
  },
  {
   "cell_type": "markdown",
   "metadata": {
    "id": "zeTX8QNjFSO8"
   },
   "source": [
    "## Application 1. Finding most similar Quora duplicate"
   ]
  },
  {
   "cell_type": "markdown",
   "metadata": {
    "id": "HNdvkJk8FSO8"
   },
   "source": [
    "We're going to use the open-source [Quora dataset](https://huggingface.co/datasets/quora), which contains 400,000 pairs of questions from Quora. We will not train a model (yet!) and rather just use the embeddings to find similar questions given a new question. Let's get started!\n",
    "\n",
    "Our first step will be to load the data - to do this, we'll use the `datasets` library."
   ]
  },
  {
   "cell_type": "code",
   "execution_count": null,
   "metadata": {
    "id": "KDwu0xdfFSO8"
   },
   "outputs": [],
   "source": [
    "%%capture\n",
    "!pip install datasets"
   ]
  },
  {
   "cell_type": "code",
   "execution_count": null,
   "metadata": {
    "id": "MPGX-JJeFSO8",
    "outputId": "ba52cb63-33a1-475c-e043-6a412f19c9b6"
   },
   "outputs": [
    {
     "data": {
      "text/plain": [
       "Dataset({\n",
       "    features: ['questions', 'is_duplicate'],\n",
       "    num_rows: 404290\n",
       "})"
      ]
     },
     "execution_count": null,
     "metadata": {},
     "output_type": "execute_result"
    }
   ],
   "source": [
    "from datasets import load_dataset\n",
    "\n",
    "dataset = load_dataset(\"quora\")[\"train\"]\n",
    "dataset"
   ]
  },
  {
   "cell_type": "markdown",
   "metadata": {
    "id": "ZAeoh-FcFSO8"
   },
   "source": [
    "To take a quick look at the data within the `Dataset` object, we can convert it to a Pandas `DataFrame` and look at the first rows."
   ]
  },
  {
   "cell_type": "code",
   "execution_count": null,
   "metadata": {
    "id": "Ls-RGV9PFSO8",
    "outputId": "9d037b03-32b1-49ae-fedf-dbe08e026e61"
   },
   "outputs": [
    {
     "data": {
      "text/html": [
       "<div>\n",
       "<style scoped>\n",
       "    .dataframe tbody tr th:only-of-type {\n",
       "        vertical-align: middle;\n",
       "    }\n",
       "\n",
       "    .dataframe tbody tr th {\n",
       "        vertical-align: top;\n",
       "    }\n",
       "\n",
       "    .dataframe thead th {\n",
       "        text-align: right;\n",
       "    }\n",
       "</style>\n",
       "<table border=\"1\" class=\"dataframe\">\n",
       "  <thead>\n",
       "    <tr style=\"text-align: right;\">\n",
       "      <th></th>\n",
       "      <th>questions</th>\n",
       "      <th>is_duplicate</th>\n",
       "    </tr>\n",
       "  </thead>\n",
       "  <tbody>\n",
       "    <tr>\n",
       "      <th>0</th>\n",
       "      <td>{'id': [1, 2], 'text': ['What is the step by s...</td>\n",
       "      <td>False</td>\n",
       "    </tr>\n",
       "    <tr>\n",
       "      <th>1</th>\n",
       "      <td>{'id': [3, 4], 'text': ['What is the story of ...</td>\n",
       "      <td>False</td>\n",
       "    </tr>\n",
       "    <tr>\n",
       "      <th>2</th>\n",
       "      <td>{'id': [5, 6], 'text': ['How can I increase th...</td>\n",
       "      <td>False</td>\n",
       "    </tr>\n",
       "    <tr>\n",
       "      <th>3</th>\n",
       "      <td>{'id': [7, 8], 'text': ['Why am I mentally ver...</td>\n",
       "      <td>False</td>\n",
       "    </tr>\n",
       "    <tr>\n",
       "      <th>4</th>\n",
       "      <td>{'id': [9, 10], 'text': ['Which one dissolve i...</td>\n",
       "      <td>False</td>\n",
       "    </tr>\n",
       "  </tbody>\n",
       "</table>\n",
       "</div>"
      ],
      "text/plain": [
       "                                           questions  is_duplicate\n",
       "0  {'id': [1, 2], 'text': ['What is the step by s...         False\n",
       "1  {'id': [3, 4], 'text': ['What is the story of ...         False\n",
       "2  {'id': [5, 6], 'text': ['How can I increase th...         False\n",
       "3  {'id': [7, 8], 'text': ['Why am I mentally ver...         False\n",
       "4  {'id': [9, 10], 'text': ['Which one dissolve i...         False"
      ]
     },
     "execution_count": null,
     "metadata": {},
     "output_type": "execute_result"
    }
   ],
   "source": [
    "dataset.to_pandas().head()"
   ]
  },
  {
   "cell_type": "markdown",
   "metadata": {
    "id": "HYCuEIADFSO8"
   },
   "source": [
    "Ok, so each sample is a dictionary. We do not care about the `is_duplicate` column here. Our goal is to find if any question in this dataset is similar to a new question. Let's process the dataset so we only have a list of questions."
   ]
  },
  {
   "cell_type": "code",
   "execution_count": null,
   "metadata": {
    "id": "jH1ag0-XFSO8",
    "outputId": "c48a3b01-2ce6-4c42-916d-24a41793b003"
   },
   "outputs": [
    {
     "data": {
      "text/plain": [
       "537362"
      ]
     },
     "execution_count": null,
     "metadata": {},
     "output_type": "execute_result"
    }
   ],
   "source": [
    "corpus_questions = []\n",
    "for d in dataset:\n",
    "    corpus_questions.append(d[\"questions\"][\"text\"][0])\n",
    "    corpus_questions.append(d[\"questions\"][\"text\"][1])\n",
    "corpus_questions = list(set(corpus_questions))  # Remove duplicates\n",
    "len(corpus_questions)"
   ]
  },
  {
   "cell_type": "markdown",
   "metadata": {
    "id": "UUGGwJVMFSO8"
   },
   "source": [
    "The next step is to embed all the questions. We'll use the `sentence-transformers` library for this. We'll use the [`quora-distilbert-multilingual` model](https://huggingface.co/sentence-transformers/quora-distilbert-multilingual), which is a model trained for 100 languages and is trained specifically for Quora-style questions. This is a larger model, and hence will be slightly slower. It will also generate larger embeddings of 768 values.\n",
    "\n",
    "To get some quick results without having to wait five minutes for the model to process all the questions, we'll only process the first 100000 questions. In practice, you would process all the questions or shuffle the questions and process a random subset of them when experimenting."
   ]
  },
  {
   "cell_type": "code",
   "execution_count": null,
   "metadata": {
    "colab": {
     "referenced_widgets": [
      "30cc6aa1ede9402ea9cd36fb9aed9376"
     ]
    },
    "id": "zN9gVBzxFSO8",
    "outputId": "c3cb5dbe-ef67-45ef-c44e-5939b9441cb3"
   },
   "outputs": [
    {
     "data": {
      "application/vnd.jupyter.widget-view+json": {
       "model_id": "30cc6aa1ede9402ea9cd36fb9aed9376",
       "version_major": 2,
       "version_minor": 0
      },
      "text/plain": [
       "Batches:   0%|          | 0/3125 [00:00<?, ?it/s]"
      ]
     },
     "metadata": {},
     "output_type": "display_data"
    }
   ],
   "source": [
    "model = SentenceTransformer(\"quora-distilbert-multilingual\")\n",
    "questions_to_embed = 100000\n",
    "corpus_embeddings = model.encode(\n",
    "    corpus_questions[:questions_to_embed],\n",
    "    show_progress_bar=True,\n",
    "    convert_to_tensor=True,\n",
    ")"
   ]
  },
  {
   "cell_type": "code",
   "execution_count": null,
   "metadata": {
    "id": "YIXIAMF6FSO8",
    "outputId": "c164021a-af25-46fd-e7ea-53a9fb9c26f7"
   },
   "outputs": [
    {
     "data": {
      "text/plain": [
       "torch.Size([100000, 768])"
      ]
     },
     "execution_count": null,
     "metadata": {},
     "output_type": "execute_result"
    }
   ],
   "source": [
    "corpus_embeddings.shape"
   ]
  },
  {
   "cell_type": "markdown",
   "metadata": {
    "id": "9A-43AO7FSO8"
   },
   "source": [
    "We just obtained 100,000 embddings in 20 seconds, even when this Sentence Transformer model is not tiny and I'm running this on my GPU-Poor computer. Unlike generative models, which are autoregressive and usually much slower, BERT-based models are super fast!"
   ]
  },
  {
   "cell_type": "markdown",
   "metadata": {
    "id": "J2guISk4FSO8"
   },
   "source": [
    "Let's now write a function that searches the corpus for the most similar question."
   ]
  },
  {
   "cell_type": "code",
   "execution_count": null,
   "metadata": {
    "id": "0xfbrvELFSO8"
   },
   "outputs": [],
   "source": [
    "import time\n",
    "\n",
    "\n",
    "def search(query):\n",
    "    start_time = time.time()\n",
    "    query_embedding = model.encode(query, convert_to_tensor=True)\n",
    "    results = util.semantic_search(query_embedding, corpus_embeddings)\n",
    "    end_time = time.time()\n",
    "\n",
    "    print(\"Results (after {:.3f} seconds):\".format(end_time - start_time))\n",
    "    # We look at top 5 results\n",
    "    for result in results[0][:5]:\n",
    "        print(\n",
    "            \"{:.3f}\\t{}\".format(result[\"score\"], corpus_questions[result[\"corpus_id\"]])\n",
    "        )"
   ]
  },
  {
   "cell_type": "code",
   "execution_count": null,
   "metadata": {
    "id": "deG-DmawFSO8",
    "outputId": "f6706d85-3cd1-44c4-c070-6d2e595d0e6b"
   },
   "outputs": [
    {
     "name": "stdout",
     "output_type": "stream",
     "text": [
      "Results (after 0.612 seconds):\n",
      "0.982\tWhat is the best online resource to learn Python?\n",
      "0.980\tWhere I should learn Python?\n",
      "0.980\tWhat's the best way to learn Python?\n",
      "0.980\tHow do I learn Python in easy way?\n",
      "0.979\tHow do I learn Python systematically?\n"
     ]
    }
   ],
   "source": [
    "search(\"How can I learn Python online?\")"
   ]
  },
  {
   "cell_type": "markdown",
   "metadata": {
    "id": "BmedVdKmFSO9"
   },
   "source": [
    "Let's try in Spanish!"
   ]
  },
  {
   "cell_type": "code",
   "execution_count": null,
   "metadata": {
    "id": "qCQtewKkFSO9",
    "outputId": "fba6c0cb-3f35-400a-888a-874ec1fe958e"
   },
   "outputs": [
    {
     "name": "stdout",
     "output_type": "stream",
     "text": [
      "Results (after 0.016 seconds):\n",
      "0.980\tWhat are the best websites to learn Python?\n",
      "0.980\tHow can I start learning the developing of websites using Python?\n",
      "0.979\tHow do I learn Python in easy way?\n",
      "0.976\tHow can I learn Python faster and effectively?\n",
      "0.976\tHow can I learn advanced Python?\n"
     ]
    }
   ],
   "source": [
    "search(\"Como puedo aprender Python online?\")"
   ]
  },
  {
   "cell_type": "markdown",
   "metadata": {
    "id": "GF2k9rWIFSO9"
   },
   "source": [
    "It seems to be working quite well! Note that although our model can process queries in other languages, such as Spanish in the example above, the embeddings were generated for English questions. This means that the model will not be able to find similar questions in other languages."
   ]
  },
  {
   "cell_type": "markdown",
   "metadata": {
    "id": "tEcOqf_qFSO9"
   },
   "source": [
    "## Distance between embeddings\n",
    "\n",
    "### Cosine similarity\n",
    "\n",
    "Until now we've been computing the cosine similarity between embeddings. This is a number between 0 and 1 that indicates how similar two embeddings are. A value of 1 means that the embeddings are identical, while 0 means that the embeddings are entirely different. So far we've used it as a black-box, so let's look into it a bit more.\n",
    "\n",
    "The cosine similarity allows us to compare how similar two vectors are regardless of their magnitude. For example, if we have two vectors, [1, 2, 3] and [2, 4, 6], they are very similar in terms of direction, but their magnitude is different. The cosine similarity will be close to 1, indicating that they are very similar.\n"
   ]
  },
  {
   "cell_type": "code",
   "execution_count": null,
   "metadata": {
    "id": "9dJ6mmHdFSO9",
    "outputId": "8124fa93-055a-4763-a9a6-caa9032ce124"
   },
   "outputs": [
    {
     "data": {
      "text/plain": [
       "tensor([[0.9926]])"
      ]
     },
     "execution_count": null,
     "metadata": {},
     "output_type": "execute_result"
    }
   ],
   "source": [
    "a = torch.FloatTensor([1, 2, 3])\n",
    "b = torch.FloatTensor([2, 3, 4])\n",
    "util.cos_sim(a, b)"
   ]
  },
  {
   "cell_type": "markdown",
   "metadata": {
    "id": "tPCiXQEWFSO9"
   },
   "source": [
    "Let's plot both vectors. As you can see, they are very similar in terms of direction, but their magnitude is different."
   ]
  },
  {
   "cell_type": "code",
   "execution_count": null,
   "metadata": {
    "id": "84D7gBZsFSO9",
    "outputId": "7dd08517-2794-4360-bec0-a490a763da8f"
   },
   "outputs": [
    {
     "data": {
      "text/plain": [
       "tensor([1., 2., 3.])"
      ]
     },
     "execution_count": null,
     "metadata": {},
     "output_type": "execute_result"
    }
   ],
   "source": [
    "a"
   ]
  },
  {
   "cell_type": "code",
   "execution_count": null,
   "metadata": {
    "id": "oyr4TZToFSO9",
    "outputId": "a50116bf-ea4d-4710-e0de-bc289c9e3b7f"
   },
   "outputs": [
    {
     "data": {
      "image/png": "[encoded data removed]",
      "text/plain": [
       "<Figure size 640x480 with 1 Axes>"
      ]
     },
     "metadata": {},
     "output_type": "display_data"
    }
   ],
   "source": [
    "import matplotlib.pyplot as plt\n",
    "import numpy as np\n",
    "\n",
    "V = np.array([a.tolist(), b.tolist()])\n",
    "origin = np.array([[0, 0], [0, 0]])  # origin point\n",
    "\n",
    "plt.quiver(*origin, V[:, 0], V[:, 1], color=[\"r\", \"b\", \"g\"], scale=10)\n",
    "plt.show()"
   ]
  },
  {
   "cell_type": "markdown",
   "metadata": {
    "id": "BxMGyy4yFSO9"
   },
   "source": [
    "Let's dive into its math. Cosine similarity is defined as the dot product of the vectors divided by the product of their magnitudes:\n",
    "\n",
    "$$\n",
    "\\text{cosine similarity}(\\mathbf{A}, \\mathbf{B}) = \\frac{\\mathbf{A} \\cdot \\mathbf{B}}{\\|\\mathbf{A}\\| \\|\\mathbf{B}\\|}\n",
    "$$"
   ]
  },
  {
   "cell_type": "markdown",
   "metadata": {
    "id": "-GoESU0DFSO9"
   },
   "source": [
    "We already discussed magnitudes at the beginning of the blog post. We need to compute the square root of the sum of the squares of a vector component\n",
    "\n",
    "$$\n",
    "\\|\\mathbf{A}\\| = \\sqrt{1^2 + 2^2 + 3^2} = \\sqrt{14}\n",
    "$$\n",
    "\n",
    "$$\n",
    "\\|\\mathbf{B}\\| = \\sqrt{2^2 + 3^2 + 4^2} = \\sqrt{29}\n",
    "$$"
   ]
  },
  {
   "cell_type": "markdown",
   "metadata": {
    "id": "A73CQKNaFSO9"
   },
   "source": [
    "We also need to compute the dot product of the vectors. The dot product is defined as the sum of the products of the corresponding vector components\n",
    "\n",
    "$$\n",
    "\\mathbf{A} \\cdot \\mathbf{B} = \\sum_{i=1}^{n} A_i B_i\n",
    "$$\n",
    "\n",
    "In this case, the dot product for A and B would look as follows\n",
    "\n",
    "$$\n",
    "\\mathbf{A} \\cdot \\mathbf{B} = 1 \\times 2 + 2 \\times 3 + 3 \\times 4 = 2 + 6 + 12 = 20\n",
    "$$\n",
    "\n",
    "Finally, we can compute the cosine similarity by doing\n",
    "\n",
    "$$\n",
    "\\text{cosine similarity}(\\mathbf{A}, \\mathbf{B}) = \\frac{20}{\\sqrt{14} \\sqrt{29}} = 0.992583\n",
    "$$\n",
    "\n",
    "which matches our result above."
   ]
  },
  {
   "cell_type": "markdown",
   "metadata": {
    "id": "PlMkZQ7_FSO9"
   },
   "source": [
    ":::{.callout-note}\n",
    "\n",
    "Can you think of two vectors with cosine similarity of 1? Think of vectors with same direction but different magnitude.\n",
    "\n",
    ":::"
   ]
  },
  {
   "cell_type": "markdown",
   "metadata": {
    "id": "duiNdxMjFSO9"
   },
   "source": [
    "### Dot product\n",
    "\n",
    "Cosine similarity does not take magnitude into account, but there might be use cases where the magnitude is meaningful. In those cases, **dot product** is a better metric. This means that longer or more verbose sentences with similar content could have a higher similarity score than shorter sentences with similar content due to their magnitude.\n",
    "\n",
    "The dot product is defined as the sum of the products of the corresponding vector components (it's what we did before!)\n",
    "\n",
    "$$\n",
    "\\mathbf{A} \\cdot \\mathbf{B} = \\sum_{i=1}^{n} A_i B_i\n",
    "$$\n",
    "\n",
    "If you look at the cosine similarity formula, if you assume the vectors are normalized (that is, their magnitude is 1), the cosine similarity is equivalent to the dot product. This means that the cosine similarity is a normalized dot product.\n",
    "\n",
    "Let's create a new vector, [4, 6, 8]. This vector has the same direction as [2, 3, 4], but it's twice as long. Let's compute the dot product of [1, 2, 3] with [2, 3, 4] and [4, 6, 8]."
   ]
  },
  {
   "cell_type": "code",
   "execution_count": null,
   "metadata": {
    "id": "F6B6JIt9FSO9",
    "outputId": "8c72c2cc-b064-434b-fb01-2fe410d55af9"
   },
   "outputs": [
    {
     "name": "stdout",
     "output_type": "stream",
     "text": [
      "Cosine Similarity between a and b: tensor([[0.9926]])\n",
      "Cosine Similarity between a and c: tensor([[0.9926]])\n",
      "Dot product between a and b: 20.0\n",
      "Dot product between a and c: 40.0\n"
     ]
    }
   ],
   "source": [
    "c = torch.FloatTensor([4, 6, 8])\n",
    "\n",
    "print(f\"Cosine Similarity between a and b: {util.cos_sim(a, b)}\")\n",
    "print(f\"Cosine Similarity between a and c: {util.cos_sim(a, c)}\")\n",
    "\n",
    "print(f\"Dot product between a and b: {torch.dot(a, b)}\")\n",
    "print(f\"Dot product between a and c: {torch.dot(a, c)}\")"
   ]
  },
  {
   "cell_type": "markdown",
   "metadata": {
    "id": "0EUj7-oYFSO9"
   },
   "source": [
    "This makes sense! As b and c have the same angle, the cosine similarity is the same between a and b and a and c. However, the dot product is higher for a and c because c is longer than b."
   ]
  },
  {
   "cell_type": "code",
   "execution_count": null,
   "metadata": {
    "id": "JEXHYZU0FSO9",
    "outputId": "9a6bb59f-38ed-4d50-eb2e-08351b745a9e"
   },
   "outputs": [
    {
     "data": {
      "image/png": "[encoded data removed]",
      "text/plain": [
       "<Figure size 640x480 with 1 Axes>"
      ]
     },
     "metadata": {},
     "output_type": "display_data"
    }
   ],
   "source": [
    "V = np.array([a.tolist(), b.tolist(), c.tolist()])\n",
    "origin = np.array([[0, 0, 0], [0, 0, 0]])  # origin point\n",
    "\n",
    "plt.quiver(*origin, V[:, 0], V[:, 1], color=[\"r\", \"b\", \"g\"], scale=20)\n",
    "plt.show()"
   ]
  },
  {
   "cell_type": "markdown",
   "metadata": {
    "id": "TS9X6JALFSO9"
   },
   "source": [
    "### Euclidean Distance\n",
    "\n",
    "The Euclidean Distance is the distance between two vectors by measuring a straight line between them. Just as the dot product, the Euclidean distance takes magnitude into account. I won't dive too much into interpreting both metrics, but the main idea is that the Dot Product measures how much one vector extends into the direction of another vector, while the Euclidean Distance measures the straight-line distance between two vectors. It is defined as the square root of the sum of the squared differences between the vector components. It's defined as\n",
    "\n",
    "$$\n",
    "\\text{Euclidean Distance}(\\mathbf{A}, \\mathbf{B}) = \\sqrt{\\sum_{i=1}^{n} (A_i - B_i)^2}\n",
    "$$\n",
    "\n",
    "In practice, you can use the Squared Euclidean (L2-Squared)\n",
    "\n",
    "$$\n",
    "\\text{Squared Euclidean}(\\mathbf{A}, \\mathbf{B}) = \\sum_{i=1}^{n} (A_i - B_i)^2\n",
    "$$"
   ]
  },
  {
   "cell_type": "markdown",
   "metadata": {
    "id": "BPtFPkUZFSO9"
   },
   "source": [
    "### Picking a score function\n",
    "\n",
    "We just learned about dot-product, cosine similarity, and euclidean distance. When to use which?\n",
    "\n",
    "It depends on the model! Some models will be trained in a way that they produce normalized embeddings. In this case, dot-product, cosine similarity and euclidean distance will all produce the same results.\n",
    "\n",
    "Other models are not trained in a way that they produce normalized embeddings - they are tuned for dot-product. In this case, dot-product will be the best function to find the closest items in a vector space. Even then, if the magnitude is not important, we can normalize as we did in the previous sections. **You can use different distance functions depending on your use case**. Models with normalized embeddings will prefer shorter sentences, while models with non-normalized embeddings will prefer longer sentences. This is because the magnitude of the embeddings will be larger for longer sentences.\n",
    "\n",
    "| Distance function | Values | When to use |\n",
    "| ----------------- | ------ | ----------- |\n",
    "| Cosine similarity | [-1, 1] | When the magnitude is not important |\n",
    "| Dot product       | [-inf, inf] | When the magnitude is important |\n",
    "| Euclidean distance | [0, inf] | When the magnitude is important |\n",
    "\n",
    "To recap:\n",
    "\n",
    "* **Cosine similarity** focuses on the angle between vectors. It's a normalized dot product.\n",
    "* **Dot product** focused on both magnitude and angle.\n",
    "* **Euclidean distance** measures spatial distance between vectors.\n",
    "\n",
    "There are other distance functions, such as Manhattan distance, but these are common ones and useful for our use cases!"
   ]
  },
  {
   "cell_type": "markdown",
   "metadata": {
    "id": "b24pavxzFSO9"
   },
   "source": [
    "## Scaling Up\n",
    "\n",
    "Until now we've been working with just a couple of sentences. In practice, you might have to deal with millions of embeddings, and we cannot always compute the distance to all of them (this is called brute-force search).\n",
    "\n",
    "One approach is to use an approximate nearest neighbor algorithm. These algorithms partition the data into buckets of similar embeddings. This allows us to quickly find the closest embeddings without having to compute the distance to all of them. This is not exact, as some vectors with high similarity might still be missed. There are different libraries you can use to do this, such as Spotify's [Annoy](https://github.com/spotify/annoy) and Facebook's [Faiss](https://github.com/facebookresearch/faiss). Vector databases such as Pinecone and Weaviate also use nearest neighbor techniques to be able to search millions of objects in milliseconds.\n",
    "\n",
    "For now, let's look at an interesting application where the scaling issues become more apparent."
   ]
  },
  {
   "cell_type": "markdown",
   "metadata": {
    "id": "hJh0Hz46FSO9"
   },
   "source": [
    "### Application 2. Paraphrase Mining\n",
    "\n",
    "Until now, with semantic search, we've been looking for the sentence most similar to a query sentence. In **paraphrase mining**, the goal is to find texts with similar meaning in a very large corpus. Let's take our Quora dataset and see if we can find similar questions."
   ]
  },
  {
   "cell_type": "code",
   "execution_count": null,
   "metadata": {
    "id": "bxxbbKx3FSO9",
    "outputId": "d568b2b8-44b0-4fe2-990a-d59de1f629ed"
   },
   "outputs": [
    {
     "data": {
      "text/plain": [
       "['',\n",
       " 'What are the Nostradamus Predictions for the 2017?',\n",
       " 'Is it expensive to take music lessons?',\n",
       " 'what are the differences between first world and third world countries? Are there any second world countries?',\n",
       " 'How much is a 1963 2 dollar bill with a red seal worth?',\n",
       " 'What is the capital of Finland?',\n",
       " 'Which is the best project management app for accounting companies?',\n",
       " \"What is Dire Straits' best album ever?\",\n",
       " 'How does Weapon Silencers work?',\n",
       " 'How should we study in medical school?']"
      ]
     },
     "execution_count": null,
     "metadata": {},
     "output_type": "execute_result"
    }
   ],
   "source": [
    "questions_to_embed = 10\n",
    "short_corpus_questions = corpus_questions[:questions_to_embed]\n",
    "short_corpus_questions"
   ]
  },
  {
   "cell_type": "code",
   "execution_count": null,
   "metadata": {
    "id": "Xoe33_NfFSO9",
    "outputId": "9c0c8cf9-55f2-4b5e-db5b-a5ba8019f5c6"
   },
   "outputs": [
    {
     "name": "stdout",
     "output_type": "stream",
     "text": [
      "Results (after 0.000 seconds):\n"
     ]
    },
    {
     "data": {
      "text/plain": [
       "tensor([[1.0000, 0.7863, 0.6348, 0.7524, 0.7128, 0.7620, 0.6928, 0.7316, 0.6973,\n",
       "         0.6602],\n",
       "        [0.7863, 1.0000, 0.7001, 0.8369, 0.8229, 0.8093, 0.7694, 0.8111, 0.7849,\n",
       "         0.7157],\n",
       "        [0.6348, 0.7001, 1.0000, 0.6682, 0.7346, 0.7228, 0.7257, 0.7434, 0.7529,\n",
       "         0.7616],\n",
       "        [0.7524, 0.8369, 0.6682, 1.0000, 0.7484, 0.8042, 0.6713, 0.7560, 0.7336,\n",
       "         0.6901],\n",
       "        [0.7128, 0.8229, 0.7346, 0.7484, 1.0000, 0.7222, 0.7419, 0.7603, 0.8080,\n",
       "         0.7145],\n",
       "        [0.7620, 0.8093, 0.7228, 0.8042, 0.7222, 1.0000, 0.7327, 0.7542, 0.7349,\n",
       "         0.6992],\n",
       "        [0.6928, 0.7694, 0.7257, 0.6713, 0.7419, 0.7327, 1.0000, 0.7820, 0.7270,\n",
       "         0.7513],\n",
       "        [0.7316, 0.8111, 0.7434, 0.7560, 0.7603, 0.7542, 0.7820, 1.0000, 0.7432,\n",
       "         0.7151],\n",
       "        [0.6973, 0.7849, 0.7529, 0.7336, 0.8080, 0.7349, 0.7270, 0.7432, 1.0000,\n",
       "         0.7243],\n",
       "        [0.6602, 0.7157, 0.7616, 0.6901, 0.7145, 0.6992, 0.7513, 0.7151, 0.7243,\n",
       "         1.0000]], device='cuda:0')"
      ]
     },
     "execution_count": null,
     "metadata": {},
     "output_type": "execute_result"
    }
   ],
   "source": [
    "model = SentenceTransformer(\"quora-distilbert-multilingual\")\n",
    "embeddings = model.encode(short_corpus_questions, convert_to_tensor=True)\n",
    "\n",
    "# Compute distance btween all embeddings\n",
    "start_time = time.time()\n",
    "distances = util.pytorch_cos_sim(embeddings, embeddings)\n",
    "end_time = time.time()\n",
    "\n",
    "print(\"Results (after {:.3f} seconds):\".format(end_time - start_time))\n",
    "distances"
   ]
  },
  {
   "cell_type": "markdown",
   "metadata": {
    "id": "goMrwT0MFSO-"
   },
   "source": [
    "Awesome! We just computed the distances of 10 embeddings vs 10 embeddings. It was quite fast. Let's try now with 1000 queries."
   ]
  },
  {
   "cell_type": "code",
   "execution_count": null,
   "metadata": {
    "colab": {
     "referenced_widgets": [
      "90f929bf62b04c5180c9573320320d4e"
     ]
    },
    "id": "QnPM1yzgFSO-",
    "outputId": "b699b703-aab3-47b2-f140-acb0f6995830"
   },
   "outputs": [
    {
     "data": {
      "application/vnd.jupyter.widget-view+json": {
       "model_id": "90f929bf62b04c5180c9573320320d4e",
       "version_major": 2,
       "version_minor": 0
      },
      "text/plain": [
       "Batches:   0%|          | 0/625 [00:00<?, ?it/s]"
      ]
     },
     "metadata": {},
     "output_type": "display_data"
    },
    {
     "name": "stdout",
     "output_type": "stream",
     "text": [
      "Results (after 0.000 seconds):\n"
     ]
    }
   ],
   "source": [
    "def compute_embeddings_slow(questions, n=10):\n",
    "    embeddings = model.encode(\n",
    "        questions[:n], show_progress_bar=True, convert_to_tensor=True\n",
    "    )\n",
    "\n",
    "    # Compute distance btween all embeddings\n",
    "    start_time = time.time()\n",
    "    distances = util.pytorch_cos_sim(embeddings, embeddings)\n",
    "    end_time = time.time()\n",
    "\n",
    "    return distances, end_time - start_time\n",
    "\n",
    "\n",
    "_, s = compute_embeddings_slow(corpus_questions, 20000)\n",
    "print(\"Results (after {:.3f} seconds):\".format(s))"
   ]
  },
  {
   "cell_type": "markdown",
   "metadata": {
    "id": "dB8G9MobFSO-"
   },
   "source": [
    "Ok, that's still fast! Let's look at some other values"
   ]
  },
  {
   "cell_type": "code",
   "execution_count": null,
   "metadata": {
    "colab": {
     "referenced_widgets": [
      "bc00ef68a4dd45ec822cb736f62f0c6d",
      "7ca7ff71b91f48aa9c5776803dabc406",
      "e6de0384bb7e4c5eb497cc1d847f364d",
      "1bcf39b41a744a2da167afeab7359ae7"
     ]
    },
    "id": "jpfCu174FSO-",
    "outputId": "cdc17aa4-bb59-45bd-a68e-d38eff3b7847"
   },
   "outputs": [
    {
     "data": {
      "application/vnd.jupyter.widget-view+json": {
       "model_id": "bc00ef68a4dd45ec822cb736f62f0c6d",
       "version_major": 2,
       "version_minor": 0
      },
      "text/plain": [
       "Batches:   0%|          | 0/1 [00:00<?, ?it/s]"
      ]
     },
     "metadata": {},
     "output_type": "display_data"
    },
    {
     "data": {
      "application/vnd.jupyter.widget-view+json": {
       "model_id": "7ca7ff71b91f48aa9c5776803dabc406",
       "version_major": 2,
       "version_minor": 0
      },
      "text/plain": [
       "Batches:   0%|          | 0/313 [00:00<?, ?it/s]"
      ]
     },
     "metadata": {},
     "output_type": "display_data"
    },
    {
     "data": {
      "application/vnd.jupyter.widget-view+json": {
       "model_id": "e6de0384bb7e4c5eb497cc1d847f364d",
       "version_major": 2,
       "version_minor": 0
      },
      "text/plain": [
       "Batches:   0%|          | 0/626 [00:00<?, ?it/s]"
      ]
     },
     "metadata": {},
     "output_type": "display_data"
    },
    {
     "data": {
      "application/vnd.jupyter.widget-view+json": {
       "model_id": "1bcf39b41a744a2da167afeab7359ae7",
       "version_major": 2,
       "version_minor": 0
      },
      "text/plain": [
       "Batches:   0%|          | 0/938 [00:00<?, ?it/s]"
      ]
     },
     "metadata": {},
     "output_type": "display_data"
    },
    {
     "data": {
      "text/plain": [
       "Text(0, 0.5, 'Time (seconds)')"
      ]
     },
     "execution_count": null,
     "metadata": {},
     "output_type": "execute_result"
    },
    {
     "data": {
      "image/png": "[encoded data removed]",
      "text/plain": [
       "<Figure size 640x480 with 1 Axes>"
      ]
     },
     "metadata": {},
     "output_type": "display_data"
    }
   ],
   "source": [
    "import matplotlib.pyplot as plt\n",
    "\n",
    "n_queries = [1, 10001, 20001, 30001]  # If I keep going my computer explodes\n",
    "times = []\n",
    "\n",
    "for n in n_queries:\n",
    "    _, s = compute_embeddings_slow(corpus_questions, n)\n",
    "    times.append(s)\n",
    "    torch.cuda.empty_cache()  # Clear GPU cache\n",
    "\n",
    "plt.plot(n_queries, times)\n",
    "plt.xlabel(\"Number of queries\")\n",
    "plt.ylabel(\"Time (seconds)\")"
   ]
  },
  {
   "cell_type": "markdown",
   "metadata": {
    "id": "RbiQDdQuFSO-"
   },
   "source": [
    "The algorithm above has a quadratic runtime, so it won't scale up well if we keep increasing the number of queries. For larger collections, we can use the [paraphrase mining technique](https://www.sbert.net/examples/applications/paraphrase-mining/README.html), which is more complex and efficient."
   ]
  },
  {
   "cell_type": "code",
   "execution_count": null,
   "metadata": {
    "colab": {
     "referenced_widgets": [
      "207c7cf4d03543b9ab3f5edc276cb7fd"
     ]
    },
    "id": "KnLtnemKFSO-",
    "outputId": "56e64194-f1e5-475a-9f46-d5c64d8f6b2d"
   },
   "outputs": [
    {
     "data": {
      "application/vnd.jupyter.widget-view+json": {
       "model_id": "207c7cf4d03543b9ab3f5edc276cb7fd",
       "version_major": 2,
       "version_minor": 0
      },
      "text/plain": [
       "Batches:   0%|          | 0/3125 [00:00<?, ?it/s]"
      ]
     },
     "metadata": {},
     "output_type": "display_data"
    }
   ],
   "source": [
    "start_time = time.time()\n",
    "paraphrases = util.paraphrase_mining(\n",
    "    model, corpus_questions[:100000], show_progress_bar=True\n",
    ")\n",
    "end_time = time.time()"
   ]
  },
  {
   "cell_type": "code",
   "execution_count": null,
   "metadata": {
    "id": "aWjtLbFxFSO-",
    "outputId": "865d49bb-99c0-45f2-819b-ff951550745e"
   },
   "outputs": [
    {
     "data": {
      "text/plain": [
       "250976"
      ]
     },
     "execution_count": null,
     "metadata": {},
     "output_type": "execute_result"
    }
   ],
   "source": [
    "len(paraphrases)"
   ]
  },
  {
   "cell_type": "code",
   "execution_count": null,
   "metadata": {
    "id": "W5MGtqBrFSO-",
    "outputId": "1884a6c3-a67e-4a4b-8d38-58ce65ac404d"
   },
   "outputs": [
    {
     "data": {
      "text/plain": [
       "[[0.999999463558197, 18862, 24292],\n",
       " [0.9999779462814331, 10915, 61354],\n",
       " [0.9999630451202393, 60527, 86890]]"
      ]
     },
     "execution_count": null,
     "metadata": {},
     "output_type": "execute_result"
    }
   ],
   "source": [
    "paraphrases[:3]"
   ]
  },
  {
   "cell_type": "markdown",
   "metadata": {
    "id": "3-f5LQnfFSO-"
   },
   "source": [
    "The first value is the score, the second is the index of a corpus question, and the third is another index to a corpus question. The score indicates how similar the two questions are.\n",
    "\n",
    "Nice! We just\n",
    "1. Computed the embeddings of 100,000 questions\n",
    "2. Obtained the most similar sentences, and\n",
    "3. Sorted them\n",
    "\n",
    "All of this in 20 seconds! Let's look at the 5 matches with the highest similariy"
   ]
  },
  {
   "cell_type": "code",
   "execution_count": null,
   "metadata": {
    "id": "fFpZVjd3FSO-",
    "outputId": "84cd7f00-3d92-4cf7-a69e-769efb130a1e"
   },
   "outputs": [
    {
     "name": "stdout",
     "output_type": "stream",
     "text": [
      "1.000\tHow do I  increase traffic on my site? and How do I increase traffic on my site?\n",
      "1.000\twho is the best rapper of all time? and Who is the best rapper of all time?\n",
      "1.000\tHow can I become an automobile engineer? and How can I become a automobile engineer?\n",
      "1.000\tI made a plasma vortex at my home, but why doesn't it produce a zapping sound like at time when we see sparks and does the air nearby it ionizes? and I made a plasma vortex at my home, but why doesn't it produce a zapping sound like at time when we see sparks and does the air nearby it, ionizes?\n",
      "1.000\tWhy was Cyrus Mistry removed as the chairman of Tata Sons? and Why was Cyrus Mistry removed as the Chairman of Tata Sons?\n"
     ]
    }
   ],
   "source": [
    "for score, i, j in paraphrases[:5]:\n",
    "    print(\"{:.3f}\\t{} and {}\".format(score, corpus_questions[i], corpus_questions[j]))"
   ]
  },
  {
   "cell_type": "markdown",
   "metadata": {
    "id": "Gx5cE5P2FSO-"
   },
   "source": [
    "How does this method work? The corpus is divided into smaller chunks, which allows us to manage the memory and compute usage. There are two ways in which the chunking happens:\n",
    "\n",
    "* **Query Chunk Size:** Determines how many sentences are considered as potential paraphrases. This is the number of sentences that are compared to the query sentence and controlled with `query_chunk_size` (5000 by default).\n",
    "* **Corpus Chunk Size:** Determines how many chunks of the corpus are being compared simultaneously. This is controlled with `corpus_chunk_size` (100000 by default).\n",
    "\n",
    "For example, with the default parameters, the algorithm processes 5000 sentences at a time, comparing each of these against chunks of 100000 sentences from the rest of the corpus. The algorithm is focused on getting the **top matches** - using `top_k`, for each sentence in a query chunk, the algorithm just selects the top k matches from the corpus chunk. This means that the algorithm will not find all the matches, but it will find the top matches. This is a good trade-off as we usually don't need all the matches, but just the top ones.\n",
    "\n",
    "Both parameters make the process more efficient as it's computationally easier to handle smaller subsets of the data. It also helps use less memory as we don't have to load the entire corpus into memory to compute the similarity. Finding the right values for these parameters is a trade-off between speed and accuracy. The larger the values, the more accurate the results, but the slower the algorithm.\n",
    "\n",
    ":::{.callout-note}\n",
    "\n",
    "You can use `max_pairs` to limit the number of pairs returned.\n",
    "\n",
    ":::\n",
    "\n",
    "Here is some pseudocode of the algorithm:\n",
    "\n",
    "```python\n",
    "# Initialize an empty list to store the results\n",
    "results = []\n",
    "\n",
    "for query_chunk in query_chunks:\n",
    "    for corpus_chunk in corpus_chunks:\n",
    "        # Compute the similarity between the query chunk and the corpus chunk\n",
    "        similarity = compute_similarity(query_chunk, corpus_chunk)\n",
    "        # Get the top k matches in the other chunk\n",
    "        top_k_matches = similarity.top_k(top_k)\n",
    "        # Add the top k matches to the results\n",
    "        results.add(top_k_matches)\n",
    "```"
   ]
  },
  {
   "cell_type": "markdown",
   "metadata": {
    "id": "LdfULDknFSO-"
   },
   "source": [
    "## Selecting and evaluating models"
   ]
  },
  {
   "cell_type": "markdown",
   "metadata": {
    "id": "ov5v118XFSO-"
   },
   "source": [
    "You should have a pretty good understanding of sentence embeddings and what we can do with them. Today, we used two different models, `all-MiniLM-L6-v2` and `quora-distilbert-multilingual`. How do we know which one to use? How do we know if a model is good or not?\n",
    "\n",
    "The first step is to know where to discover sentence embedding models. If you're using open-source ones, the Hugging Face Hub allows you to [filter for them](https://huggingface.co/models?library=sentence-transformers). The community has shared over 4000 models! Although looking at the trending models on Hugging Face is a good indicator (e.g., I can see the Microsoft Multilingual 5 Large model, a decent one), we need more information to pick a model.\n",
    "\n",
    "[MTEB](https://huggingface.co/spaces/mteb/leaderboard) has us covered. This leaderboard contains multiple evaluation datasets for various tasks. Let's quickly look at some criteria we're interested in when picking a model.\n",
    "\n",
    "* **Sequence length.** As discussed before, you might need to encode longer sequences depending on the expected user inputs. For example, if you're encoding long documents, you might need to use a model with a larger sequence length. Another alternative is to split the document into multiple sentences and encode each sentence separately.\n",
    "* **Language.** The leaderboard contains mostly English or multilingual models, but you can also find models for other languages such as Chinese, Polish, Danish, Swedish, German, etc.\n",
    "* **Embedding dimension.** As discussed before, the larger the embedding dimension, the more information the embedding can capture. However, larger embeddings are more expensive to compute and store.\n",
    "* **Average metrics across tasks.** The leaderboard contains multiple tasks, such as clustering, re-ranking, and retrieval. You can look at the average performance across all tasks to get a sense of how good the model is.\n",
    "* **Task-specific metrics.** You can also look at the model's performance in specific tasks. For example, if you're interested in clustering, you can look at the model's performance in the clustering task.\n",
    "\n",
    "Knowing the purpose of the model is also essential. Some models will be generalist models. Others, such as [Specter 2](https://huggingface.co/allenai/specter2), are focused on specific tasks, such as scientific papers. I won't dive too much into all the tasks in the leaderboard, but you can look at the [MTEB paper](https://arxiv.org/abs/2210.07316) for more information. Let me give a brief summary of MTEB.\n",
    "\n",
    "[![MTEB tasks image from the paper](https://github.com/osanseviero/hackerllama/blob/main/nbs/blog/posts/sentence_embeddings/mteb.png?raw=1)](https://arxiv.org/abs/2210.07316)\n",
    "\n",
    "MTEB provides a benchmark of 56 datasets across eight tasks and contains 112 languages. It's easily extensible to add your datasets and models to the leaderboard. Overall, it's a straightforward tool to find the suitable speed-accuracy trade-off for your use case.\n",
    "\n",
    "Today's (Jan 7th, 2024) top model is a large model, E5-Mistral-7B-instruct, which is 14.22Gb in size and an average of 66.63 over the 56 datasets. One of the next best open-source models is BGE-Large-en-v1.5, which is just 1.34Gb and performs an average of 64.23. And the base model for BGE, which is even smaller (0.44Gb), has a quality of 63.55! As a comparison, text-embedding-ada-002, even if it provides larger embeddings of 1536 dimensions, performs with a quality of 60.99. That's number 23 in the MTEB benchmark! Cohere provides better embeddings, with a quality of 64.47 and embeddings of 1024 dimensions.\n",
    "\n",
    "I recommend looking at this [Twitter thread from 2022](https://twitter.com/Nils_Reimers/status/1487014195568775173), in which OpenAI embeddings were compared against other embeddings. The results are quite interesting! The costs were many orders of magnitude higher, and the quality was considerably lower than smaller models.\n",
    "\n",
    "**All of this said, don't overfixate on a single number. You should always look at the specific metrics of your task and the particular resource and speed requirements**\n",
    "\n",
    "It's interesting to look at the different tasks covered in MTEB to understand potential sentence embedding applications better.\n",
    "\n",
    "* **Bitext Mining.** This task involves finding the most similar sentences in two sets of sentences, each in a different language. It is essential for machine translation and cross-lingual search.\n",
    "* **Classification.** In this application, a logistic regression classifier is trained using sentence embeddings for text classification tasks.\n",
    "* **Clustering.** Here, a k-means model is trained on sentence embeddings to group similar sentences together, useful in unsupervised learning tasks.\n",
    "* **Pair Classification.** This task entails predicting whether a pair of sentences are similar, such as determining if they are duplicates or paraphrases, aiding in paraphrase detection.\n",
    "* **Re-ranking.** In this scenario, a list of reference texts is re-ranked based on their similarity to a query sentence, improving search and recommendation systems.\n",
    "* **Retrieval.** This application involves embedding queries and associated documents to find the most similar documents to a given query, crucial in search-related tasks.\n",
    "* **Semantic Similarity.** This task focuses on determining the similarity between a pair of sentences, outputting a continuous similarity score, useful in paraphrase detection and related tasks.\n",
    "* **Summarization.** This involves scoring a set of summaries by computing the similarity between them and a reference (human-written) summary, important in summarization evaluation."
   ]
  },
  {
   "cell_type": "markdown",
   "metadata": {
    "id": "rpTJZ9VJFSO-"
   },
   "source": [
    "## Showcase Application: Real-time Embeddings in your browser\n",
    "\n",
    "We won't do the hands-on for this one, but I wanted to show you a cool application of embeddings. Lee Butterman built a [cool app](https://leebutterman.com/wikipedia-search-by-vibes/) where users can search among millions of Wikipedia articles by using embeddings. **What is extra nice here is that this is offline: the embeddings are stored in the browser and the model is running directly in your browser as well - nothing is being sent to a server!** 🤯\n",
    "\n",
    "Preparing the data\n",
    "\n",
    "* We first pre-compute an embedding database. The author used a small yet effective model, all-minilm-l6-v2.\n",
    "* The database of 6 million pages * 384 dimensions * 4 bytes per float = 9.2 GB. This is quite large to have users download that.\n",
    "* The author used a technique called [product quantization](https://en.wikipedia.org/wiki/Vector_quantization) to reduce the size of the database.\n",
    "* The data is then exported to a format called Arrow, which is very compact!\n",
    "\n",
    ":::{.callout-note}\n",
    "\n",
    "Do not worry too much about the specifics here. Our main goal is to understand the high-level idea of this project; so don't be scared if this is the first time you hear the word \"quantization\"!\n",
    "\n",
    ":::\n",
    "\n",
    "At inference time\n",
    "\n",
    "* Lee used [transformers.js](https://github.com/xenova/transformers.js), a library that allows to run transformers models in the browser with JavaScript. This requires having quantized models. Here is an example\n",
    "\n",
    "```js\n",
    "const extractor = await pipeline('feature-extraction', 'Xenova/all-MiniLM-L6-v2');\n",
    "const output = await extractor('This is a simple test.', { pooling: 'mean', normalize: true });\n",
    "// Tensor {\n",
    "//   type: 'float32',\n",
    "//   data: Float32Array [0.09094982594251633, -0.014774246141314507, ...],\n",
    "//   dims: [1, 384]\n",
    "// }\n",
    "```\n",
    "\n",
    "* `transformers.js` downloads the all-MiniLM-L6-v2 model to the browser and is used to compute the embeddings in the browser.\n",
    "* The distance is then computed using [pq.js](https://github.com/lsb/pq.js).\n",
    "\n",
    "Read more about this project in [Lee's blog post](https://www.leebutterman.com/2023/06/01/offline-realtime-embedding-search.html).This is a great example of how embeddings can be used in the browser!"
   ]
  },
  {
   "cell_type": "markdown",
   "metadata": {
    "id": "kRhLBXWLFSO-"
   },
   "source": [
    "## The State of the Ecosystem\n",
    "\n",
    "The ecosystem around embeddings is quite large.\n",
    "\n",
    "### Building on top of embeddings:\n",
    "\n",
    "* There are cool tools such as `top2vec` and `bertopic` designed for buildimg topic embeddings.\n",
    "* `keybert` is a library that allows extracting keywords and keyphrases similar to a document using BERT embeddings.\n",
    "* `setfit` is a library that allows doing efficient few-shot fine-tuning of Sentence Transformers to use them for text classification.\n",
    "\n",
    "### Embedding databases\n",
    "\n",
    "2023 has been the year of embedding databases. [LangChain Integrations Section](https://integrations.langchain.com/vectorstores) show 65 vector stores. From Weaviate, Pinecone, and Chroma to Redis, ElasticSearch, and Postgres. Embedding databases are specialized to accelerate similarity search on embeddings, usually using approximate search algorithms. The new wave of embedding database startups has lead to a big amount of money being invested in it. At the same time, classical existing database companies have integrated vector indexes into their products, such as Cassandra and MongoDB.\n",
    "\n",
    "### Research\n",
    "\n",
    "The research around embeddings is also quite active. If you follow the MTEB benchmark, it changes every few weeks. Some of the players in this are are Microsoft (E5 models), Cohere, BAAI (BGE), Alibaba (GTE), NLP Group of The University of Hong Kong (Instructor), and Jina, among many others."
   ]
  },
  {
   "cell_type": "markdown",
   "metadata": {
    "id": "9micn0efFSO-"
   },
   "source": [
    "## Conclusion\n",
    "\n",
    "What a journey! We just went from 0 to 1 in sentence embeddings. We learned about what they are, how to compute them, how to compare them, and how to scale them. We also saw some cool applications of embeddings, such as semantic search and paraphrase mining. I hope this blog post gave you a good understanding of what sentence embeddings are and how to use them. This is the first part of a series. What's left to learn?\n",
    "\n",
    "* The role of vector databases\n",
    "* How to use embeddings for more complex ranking systems\n",
    "* Topic modeling\n",
    "* Multimodality\n",
    "* How to train your own embedding models\n",
    "* All about RAGs\n",
    "\n",
    "There will be a time for each of those! For now, I suggest to take a break to check your knowledge. Don't hesitate to change the code and play with it! If you like this blog post, don't hesitate to [leave a GitHub Star](https://github.com/osanseviero/hackerllama) or share it!"
   ]
  },
  {
   "cell_type": "markdown",
   "metadata": {
    "id": "6GdZvVhqFSO-"
   },
   "source": [
    "## Knowledge Check\n",
    "\n",
    "1. What make transformer models more useful than GloVe or Word2Vec for computing embeddings?\n",
    "2. What is the role of the `[CLS]` token in BERT and how does it help for computing sentence embeddings?\n",
    "3. What's the difference between `pooler_output` and the `[CLS]` token embedding?\n",
    "4. What's the difference between `[CLS]` pooling, max pooling, and mean pooling?\n",
    "5. What is the sequence length limitation of transformer models and how can we work around it?\n",
    "6. When do we need to normalize the embeddings?\n",
    "7. Which two vectors would give a cosine similarity of -1? What about 0?\n",
    "8. Explain the different parameters of the `paraphrase_mining` function.\n",
    "9. How would you choose the best model for your use case?"
   ]
  },
  {
   "cell_type": "markdown",
   "metadata": {
    "id": "AeC5coeIFSO-"
   },
   "source": [
    "## Resources\n",
    "\n",
    "Here are some useful resources:\n",
    "\n",
    "* [Sentence Transformers](https://www.sbert.net/)\n",
    "* [Hugging Face Hub](https://huggingface.co/models?library=sentence-transformers)\n",
    "* [MTEB Leaderboard](https://huggingface.co/blog/mteb)\n"
   ]
  },
  {
   "cell_type": "markdown",
   "metadata": {
    "id": "JzH6-H43FSO-"
   },
   "source": []
  }
 ],
 "metadata": {
  "colab": {
   "provenance": []
  },
  "kernelspec": {
   "display_name": "Python 3 (ipykernel)",
   "language": "python",
   "name": "python3"
  },
  "language_info": {
   "codemirror_mode": {
    "name": "ipython",
    "version": 3
   },
   "file_extension": ".py",
   "mimetype": "text/x-python",
   "name": "python",
   "nbconvert_exporter": "python",
   "pygments_lexer": "ipython3",
   "version": "3.9.12"
  }
 },
 "nbformat": 4,
 "nbformat_minor": 4
}
